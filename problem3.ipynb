{
 "cells": [
  {
   "cell_type": "code",
   "execution_count": 102,
   "metadata": {},
   "outputs": [],
   "source": [
    "import torch\n",
    "from PIL import Image\n",
    "from sklearn.model_selection import train_test_split\n",
    "from torch import nn, optim\n",
    "import torch.nn.functional as F\n",
    "from torchvision.ops import focal_loss\n",
    "import torchvision.transforms.functional as transF\n",
    "import numpy as np\n",
    "from torch.utils.data import DataLoader, Dataset\n",
    "from torchvision import datasets, transforms, models\n",
    "from torchvision.datasets import ImageFolder\n",
    "import matplotlib.pyplot as plt\n",
    "import matplotlib.ticker as mticker\n",
    "import os\n",
    "from torch.utils.data import random_split\n",
    "import random\n",
    "from sklearn import preprocessing\n",
    "from tqdm import tqdm\n",
    "import cv2\n",
    "import pandas as pd\n",
    "from sklearn.metrics import confusion_matrix"
   ]
  },
  {
   "cell_type": "code",
   "execution_count": 103,
   "metadata": {},
   "outputs": [
    {
     "name": "stdout",
     "output_type": "stream",
     "text": [
      "cpu\n"
     ]
    }
   ],
   "source": [
    "device = torch.device('cuda' if torch.cuda.is_available() else 'cpu')\n",
    "print(device)"
   ]
  },
  {
   "cell_type": "code",
   "execution_count": 104,
   "metadata": {},
   "outputs": [],
   "source": [
    "class CFG:\n",
    "    '''\n",
    "    CFG\n",
    "    Define hyperparameters used for preprocessing data and training model\n",
    "    ----------\n",
    "    Attributes\n",
    "    ----------\n",
    "        num_epochs: int \n",
    "            Number of epochs need for training.\n",
    "        batch_size: int\n",
    "            Number of samples used for training in 1 iteration.\n",
    "        num_workers: int\n",
    "            Number of processor used in multiprocessing training.\n",
    "        weight_decay: float (0 < weight_decay < 1)\n",
    "            Percentage of neuron dropped out.\n",
    "        mean: ndarray\n",
    "            Mean values of the whole dataset\n",
    "        std: ndarray\n",
    "            Standard deviation values of the whole dataset.\n",
    "        height: int\n",
    "            Height of input image used for the input layer of model.\n",
    "        width: int\n",
    "            Width of input image used for the input layer of model.\n",
    "        learning_rate: float\n",
    "            Step size at each iteration defines how much to change the model.\n",
    "        num_classes: int\n",
    "            Number of output classes.\n",
    "        target_names: list(str) \n",
    "            Names of output classes.\n",
    "    '''\n",
    "    num_epochs = 10\n",
    "    batch_size = 32\n",
    "    num_workers = 2\n",
    "    weight_decay = 1e-5\n",
    "    mean = [0.485, 0.456, 0.406]\n",
    "    std = [0.229, 0.224, 0.225]\n",
    "    height = 224\n",
    "    width = 224\n",
    "    learning_rate = 0.001\n",
    "    num_classes = 4\n",
    "    le = preprocessing.LabelEncoder()\n",
    "    path = './archive/data'\n",
    "    stoi = {'cloudy' : 0, 'desert' : 1, 'green_area' : 2, 'water' : 3}\n",
    "    itos = {0 :'cloudy', 1 : 'desert', 2 : 'green_area', 3 : 'water'}\n",
    "    target_names = ['cloudy', 'desert', 'green_area', 'water']"
   ]
  },
  {
   "cell_type": "code",
   "execution_count": 105,
   "metadata": {},
   "outputs": [],
   "source": [
    "class ProcessData:\n",
    "    def __init__(self, path = CFG.path):\n",
    "        self.path = path\n",
    "\n",
    "    def random_split_dataset(self):\n",
    "        '''\n",
    "        random_split_dataset(path = CFG.path)\n",
    "        Split the dataset into 3 subsets included: train, validation and test.\n",
    "        ----------\n",
    "        Parameters\n",
    "        ----------\n",
    "        path : str, default=CFG.path\n",
    "            `path` define the path to dataset\n",
    "        ----------\n",
    "        Returns\n",
    "        ----------\n",
    "        tuple(list(str))\n",
    "            Tuple including 3 lists: train, validation, test. Each list contains paths to samples in dataset.\n",
    "            The default ratio for 3 subset: train=0.6, validation=0.2, test=0.2\n",
    "        '''\n",
    "        random.seed(42)\n",
    "        folders = os.listdir(self.path)\n",
    "        CFG.num_classes = len(folders)\n",
    "        data = []\n",
    "        CFG.le.fit(folders)\n",
    "        CFG.le_name_mapping = dict(zip(CFG.le.classes_, CFG.le.transform(CFG.le.classes_)))\n",
    "        for folder in folders:\n",
    "            for image_filename in os.listdir(os.path.join(self.path, folder)):\n",
    "                data.append((image_filename, folder))\n",
    "        print('num_classes', CFG.num_classes, 'length dataset', len(data))\n",
    "        CFG.train_size = int(0.8*len(data))\n",
    "        CFG.valid_size = int(0.1*len(data))\n",
    "        CFG.test_size = len(data) - CFG.train_size - CFG.valid_size\n",
    "        random.shuffle(data)\n",
    "        return data[ : CFG.train_size], data[CFG.train_size : CFG.train_size + CFG.valid_size], data[CFG.train_size + CFG.valid_size : ]\n",
    "\n",
    "    def get_transforms(self, transforms_type: str):\n",
    "        '''\n",
    "        get_transforms(transforms_type)\n",
    "        ----------\n",
    "        Parameters\n",
    "        ----------\n",
    "        transforms_type: str\n",
    "            Refers to which dataset transformation applied on ('train', 'test', 'train')\n",
    "        ----------\n",
    "        Returns\n",
    "        ----------\n",
    "            If mode is 'train': return a transform.Compose object including steps:\n",
    "                Resize, RandomHorizontalFlip, RandomRotation, ToTensor, Normalize\n",
    "            Else: return a transform.Compose object including steps:\n",
    "                Resize, ToTensor, Normalize\n",
    "        '''\n",
    "        if transforms_type == 'train':\n",
    "            return transforms.Compose([\n",
    "                    transforms.Resize((CFG.width, CFG.height)),\n",
    "                    transforms.RandomHorizontalFlip(),\n",
    "                    transforms.RandomRotation(30),\n",
    "                    transforms.ToTensor(),\n",
    "                    transforms.Normalize(mean=CFG.mean,std=CFG.std)\n",
    "                ])\n",
    "        else:\n",
    "            return transforms.Compose([\n",
    "                transforms.Resize((CFG.width, CFG.height)),\n",
    "                transforms.ToTensor(),\n",
    "                transforms.Normalize(mean=CFG.mean,std=CFG.std)\n",
    "            ])"
   ]
  },
  {
   "cell_type": "code",
   "execution_count": 106,
   "metadata": {},
   "outputs": [],
   "source": [
    "class CustomDataset(Dataset):\n",
    "    def __init__(self, data, transforms_type = 'train'):\n",
    "        self.data = data\n",
    "        self.transforms = ProcessData().get_transforms(transforms_type)\n",
    "        \n",
    "    def __getitem__(self, idx):\n",
    "        '''\n",
    "        __getitem__(self, idx)\n",
    "        Get item by index\n",
    "        ----------\n",
    "        Parameters\n",
    "        ----------\n",
    "        idx: int\n",
    "            Index of the sample in dataset.\n",
    "        ----------\n",
    "        Returns\n",
    "        ----------\n",
    "        A tuple of (image: tensor, label: numeric)\n",
    "        '''\n",
    "        image_filename, class_name = self.data[idx]\n",
    "        img_path = os.path.join(CFG.path, class_name, image_filename)\n",
    "        img = Image.open(img_path).convert(\"RGB\")\n",
    "        img = self.transforms(img)\n",
    "        return img, torch.tensor(CFG.le_name_mapping[class_name])\n",
    "\n",
    "    def __len__(self):\n",
    "        return len(self.data)"
   ]
  },
  {
   "cell_type": "code",
   "execution_count": 107,
   "metadata": {},
   "outputs": [],
   "source": [
    "class DatasetLoader:\n",
    "    def __init__(self):\n",
    "        self.process_data = ProcessData()\n",
    "\n",
    "    def get_loaders(self):\n",
    "        '''\n",
    "        get_loaders: \n",
    "            Split the dataset into 3 set: train, val and test. Each set will be converted into a CustomDataset object and transformed.\n",
    "            Divided each dataset into batches for data loading.\n",
    "        ----------\n",
    "        Returns\n",
    "        ----------\n",
    "        A tuple of (train_loader, val_loader, test_loader)\n",
    "        '''\n",
    "        train_data, val_data, test_data = self.process_data.random_split_dataset()\n",
    "        print(len(train_data), len(val_data), len(test_data))\n",
    "        train_dataset = CustomDataset(train_data, transforms_type = 'train')\n",
    "        val_dataset = CustomDataset(val_data, transforms_type = 'valid')\n",
    "        test_dataset = CustomDataset(test_data, transforms_type = 'test')\n",
    "        train_loader = DataLoader(dataset = train_dataset, batch_size = CFG.batch_size, shuffle = True)\n",
    "        val_loader = DataLoader(dataset = val_dataset, batch_size = CFG.batch_size, shuffle = False)\n",
    "        test_loader = DataLoader(dataset = test_dataset, batch_size = CFG.batch_size, shuffle = False)\n",
    "        return train_loader, val_loader, test_loader"
   ]
  },
  {
   "cell_type": "code",
   "execution_count": 108,
   "metadata": {},
   "outputs": [
    {
     "name": "stdout",
     "output_type": "stream",
     "text": [
      "num_classes 4 length dataset 5631\n",
      "4504 563 564\n"
     ]
    }
   ],
   "source": [
    "train_loader, val_loader, test_loader = DatasetLoader().get_loaders()"
   ]
  },
  {
   "cell_type": "code",
   "execution_count": 109,
   "metadata": {},
   "outputs": [],
   "source": [
    "class BaseModel(nn.Module):\n",
    "    def __init__(self):\n",
    "        super(BaseModel, self).__init__()\n",
    "        self.pool = nn.MaxPool2d(2, 2)\n",
    "        self.dropout = nn.Dropout(p=CFG.weight_decay)\n",
    "\n",
    "        self.conv1 = nn.Conv2d(3, 6, 4)\n",
    "        self.conv2 = nn.Conv2d(6, 12, 4)\n",
    "        self.conv3 = nn.Conv2d(12, 14, 4)\n",
    "        self.conv4 = nn.Conv2d(14, 16, 4)\n",
    "        self.conv5 = nn.Conv2d(16, 20, 4)\n",
    "\n",
    "        self.fc1 = nn.Linear(20*4*4, 250)\n",
    "        self.fc2 = nn.Linear(250, 200)\n",
    "        self.fc3 = nn.Linear(200, 50)\n",
    "        self.fc4 = nn.Linear(50, 20)\n",
    "        self.fc5 = nn.Linear(20, CFG.num_classes)\n",
    "\n",
    "    def forward(self, x):\n",
    "        x = self.conv1(x)\n",
    "        x = F.relu(x)\n",
    "        x = self.pool(x)\n",
    "\n",
    "        x = self.conv2(x)\n",
    "        x = F.relu(x)\n",
    "        x = self.pool(x)\n",
    "\n",
    "        x = self.conv3(x)\n",
    "        x = F.relu(x)\n",
    "        x = self.pool(x)\n",
    "\n",
    "        x = self.conv4(x)\n",
    "        x = F.relu(x)\n",
    "        x = self.pool(x)\n",
    "\n",
    "        x = self.conv5(x)\n",
    "        x = F.relu(x)\n",
    "        x = self.pool(x)\n",
    "\n",
    "        x = x.reshape(-1, 20*4*4)\n",
    "\n",
    "        x = self.fc1(x)\n",
    "        x = F.relu(x)\n",
    "        x = self.dropout(x)\n",
    "\n",
    "        x = self.fc2(x)\n",
    "        x = F.relu(x)\n",
    "        x = self.dropout(x)\n",
    "\n",
    "        x = self.fc3(x)\n",
    "        x = F.relu(x)\n",
    "        x = self.dropout(x)\n",
    "\n",
    "        x = self.fc4(x)\n",
    "        x = F.relu(x)\n",
    "        x = self.dropout(x)\n",
    "\n",
    "        x = self.fc5(x)\n",
    "        \n",
    "        return x"
   ]
  },
  {
   "cell_type": "code",
   "execution_count": 125,
   "metadata": {},
   "outputs": [],
   "source": [
    "class Trainer:\n",
    "    def __init__(self, model):\n",
    "        self.model = model\n",
    "        self.criterion = nn.CrossEntropyLoss()\n",
    "        self.optimizer = torch.optim.Adam(self.model.parameters(), lr=CFG.learning_rate, weight_decay=CFG.weight_decay)\n",
    "\n",
    "    def train(self, train_loader):\n",
    "        self.model.train()\n",
    "        train_acc, correct_train, train_loss, target_count = 0, 0, 0, 0\n",
    "    \n",
    "        for images, labels in tqdm(train_loader):\n",
    "            images = images.to(device).float()\n",
    "            labels = labels.to(device).long()\n",
    "\n",
    "            # Forward pass\n",
    "            outputs = self.model(images)\n",
    "            loss = self.criterion(outputs, labels)\n",
    "            train_loss += loss.item()\n",
    "\n",
    "            # Backward and optimize\n",
    "            self.optimizer.zero_grad()\n",
    "            loss.backward()\n",
    "            self.optimizer.step()\n",
    "                \n",
    "            # accuracy\n",
    "            _, predicted = torch.max(outputs, 1)\n",
    "            target_count += labels.shape[0]\n",
    "            correct_train += (labels == predicted).sum().item()\n",
    "            train_acc = (100 * correct_train) / target_count\n",
    "        return train_acc, train_loss / target_count\n",
    "\n",
    "    def validate(self, val_loader):\n",
    "        self.model.eval()\n",
    "        val_acc, correct_val, val_loss, target_count = 0, 0, 0, 0\n",
    "        for images, labels in tqdm(val_loader):\n",
    "            images = images.to(device).float()\n",
    "            labels = labels.to(device).long()\n",
    "            outputs = self.model(images)\n",
    "            loss = self.criterion(outputs, labels)\n",
    "            val_loss += loss.item()\n",
    "\n",
    "            _, predicted = torch.max(outputs, 1)\n",
    "            target_count += labels.shape[0]\n",
    "            correct_val += (labels == predicted).sum().item()\n",
    "            val_acc = (100 * correct_val) / target_count\n",
    "        return val_acc, val_loss / target_count \n",
    "    \n",
    "    def fit(self, model, the_last_loss = 100, patience = 10, trigger_times = 0, isStopped = False):\n",
    "        self.train_acc_history = []\n",
    "        self.train_loss_history = []\n",
    "        self.val_acc_history = []\n",
    "        self.val_loss_history = []\n",
    "\n",
    "        for epoch in range(0, CFG.num_epochs):\n",
    "            \n",
    "            train_acc, train_loss = self.train(train_loader)\n",
    "            self.train_acc_history.append(train_acc)\n",
    "            self.train_loss_history.append(train_loss)\n",
    "            \n",
    "            val_acc,val_loss = self.validate(val_loader)\n",
    "            self.val_acc_history.append(val_acc)\n",
    "            self.val_loss_history.append(val_loss)\n",
    "            \n",
    "            print(\"Epoch {}: train_acc {:.6f} \\t train_loss {:.6f} \\t val_acc {:.6f} \\t val_loss {:.6f}\".format(epoch+1, train_acc, train_loss, val_acc, val_loss))\n",
    "            print(\"Learning rate: {}\".format(self.optimizer.param_groups[0][\"lr\"]))\n",
    "            the_current_loss = val_loss\n",
    "            \n",
    "            if the_current_loss > the_last_loss:\n",
    "                trigger_times += 1\n",
    "                print('trigger times: ', trigger_times)\n",
    "                if trigger_times >= patience:\n",
    "                    print('Early stopping! at epoch {0}'.format(epoch+1))\n",
    "                    isStopped = True\n",
    "                    break\n",
    "            else:\n",
    "                print('trigger times: 0')\n",
    "                trigger_times = 0\n",
    "                the_last_loss = the_current_loss\n",
    "                if not isStopped:\n",
    "                    torch.save(self.model.state_dict(), 'model.pt')\n",
    "                    print('Validation loss {:.6f}.  Saving model ...'.format(the_current_loss))\n",
    "\n",
    "    def plot_his_acc(self):\n",
    "        plt.figure(figsize=(25,5))\n",
    "        plt.plot(self.train_acc_history,'-o')\n",
    "        plt.plot(self.val_acc_history,'-o')\n",
    "        plt.xlabel('epoch')\n",
    "        plt.ylabel('Accuracy')\n",
    "        plt.gca().xaxis.set_major_locator(mticker.MultipleLocator(1))\n",
    "        plt.legend(['Train_Acc','Val_Acc'])\n",
    "        plt.title('Train Acc and Val Acc')\n",
    "        plt.show()\n",
    "\n",
    "    def plot_his_loss(self):\n",
    "        plt.figure(figsize=(25,5))\n",
    "        plt.plot(self.train_loss_history,'-o')\n",
    "        plt.plot(self.val_loss_history,'-o')\n",
    "        plt.xlabel('epoch')\n",
    "        plt.ylabel('losses')\n",
    "        plt.gca().xaxis.set_major_locator(mticker.MultipleLocator(1))\n",
    "        plt.legend(['Train_Loss','Val_Loss'])\n",
    "        plt.title('Train Loss and Val Loss')\n",
    "        plt.show()"
   ]
  },
  {
   "cell_type": "code",
   "execution_count": 123,
   "metadata": {},
   "outputs": [],
   "source": [
    "model = BaseModel()\n",
    "model = model.to(device)"
   ]
  },
  {
   "cell_type": "code",
   "execution_count": 126,
   "metadata": {},
   "outputs": [
    {
     "name": "stderr",
     "output_type": "stream",
     "text": [
      "100%|██████████| 141/141 [01:15<00:00,  1.88it/s]\n",
      "100%|██████████| 18/18 [00:06<00:00,  2.92it/s]\n"
     ]
    },
    {
     "name": "stdout",
     "output_type": "stream",
     "text": [
      "Epoch 1: train_acc 49.866785 \t train_loss 0.025869 \t val_acc 57.726465 \t val_loss 0.024029\n",
      "Learning rate: 0.001\n",
      "trigger times: 0\n",
      "Validation loss 0.024029.  Saving model ...\n"
     ]
    },
    {
     "name": "stderr",
     "output_type": "stream",
     "text": [
      "100%|██████████| 141/141 [00:58<00:00,  2.40it/s]\n",
      "100%|██████████| 18/18 [00:03<00:00,  4.56it/s]\n"
     ]
    },
    {
     "name": "stdout",
     "output_type": "stream",
     "text": [
      "Epoch 2: train_acc 53.285968 \t train_loss 0.022379 \t val_acc 51.509769 \t val_loss 0.021460\n",
      "Learning rate: 0.001\n",
      "trigger times: 0\n",
      "Validation loss 0.021460.  Saving model ...\n"
     ]
    },
    {
     "name": "stderr",
     "output_type": "stream",
     "text": [
      "100%|██████████| 141/141 [01:00<00:00,  2.34it/s]\n",
      "100%|██████████| 18/18 [00:04<00:00,  3.92it/s]\n"
     ]
    },
    {
     "name": "stdout",
     "output_type": "stream",
     "text": [
      "Epoch 3: train_acc 61.478686 \t train_loss 0.020470 \t val_acc 59.325044 \t val_loss 0.020023\n",
      "Learning rate: 0.001\n",
      "trigger times: 0\n",
      "Validation loss 0.020023.  Saving model ...\n"
     ]
    },
    {
     "name": "stderr",
     "output_type": "stream",
     "text": [
      "100%|██████████| 141/141 [01:00<00:00,  2.33it/s]\n",
      "100%|██████████| 18/18 [00:03<00:00,  4.56it/s]\n"
     ]
    },
    {
     "name": "stdout",
     "output_type": "stream",
     "text": [
      "Epoch 4: train_acc 66.984902 \t train_loss 0.019694 \t val_acc 69.804618 \t val_loss 0.017737\n",
      "Learning rate: 0.001\n",
      "trigger times: 0\n",
      "Validation loss 0.017737.  Saving model ...\n"
     ]
    },
    {
     "name": "stderr",
     "output_type": "stream",
     "text": [
      "100%|██████████| 141/141 [00:59<00:00,  2.38it/s]\n",
      "100%|██████████| 18/18 [00:04<00:00,  4.25it/s]\n"
     ]
    },
    {
     "name": "stdout",
     "output_type": "stream",
     "text": [
      "Epoch 5: train_acc 72.224689 \t train_loss 0.018235 \t val_acc 78.507993 \t val_loss 0.016547\n",
      "Learning rate: 0.001\n",
      "trigger times: 0\n",
      "Validation loss 0.016547.  Saving model ...\n"
     ]
    },
    {
     "name": "stderr",
     "output_type": "stream",
     "text": [
      "100%|██████████| 141/141 [00:58<00:00,  2.39it/s]\n",
      "100%|██████████| 18/18 [00:03<00:00,  4.62it/s]\n"
     ]
    },
    {
     "name": "stdout",
     "output_type": "stream",
     "text": [
      "Epoch 6: train_acc 76.221137 \t train_loss 0.017237 \t val_acc 66.607460 \t val_loss 0.017803\n",
      "Learning rate: 0.001\n",
      "trigger times:  1\n"
     ]
    },
    {
     "name": "stderr",
     "output_type": "stream",
     "text": [
      "100%|██████████| 141/141 [01:05<00:00,  2.14it/s]\n",
      "100%|██████████| 18/18 [00:05<00:00,  3.53it/s]\n"
     ]
    },
    {
     "name": "stdout",
     "output_type": "stream",
     "text": [
      "Epoch 7: train_acc 76.709591 \t train_loss 0.016670 \t val_acc 79.218472 \t val_loss 0.015244\n",
      "Learning rate: 0.001\n",
      "trigger times: 0\n",
      "Validation loss 0.015244.  Saving model ...\n"
     ]
    },
    {
     "name": "stderr",
     "output_type": "stream",
     "text": [
      "100%|██████████| 141/141 [01:02<00:00,  2.25it/s]\n",
      "100%|██████████| 18/18 [00:05<00:00,  3.41it/s]\n"
     ]
    },
    {
     "name": "stdout",
     "output_type": "stream",
     "text": [
      "Epoch 8: train_acc 81.571936 \t train_loss 0.013945 \t val_acc 84.014210 \t val_loss 0.013225\n",
      "Learning rate: 0.001\n",
      "trigger times: 0\n",
      "Validation loss 0.013225.  Saving model ...\n"
     ]
    },
    {
     "name": "stderr",
     "output_type": "stream",
     "text": [
      "100%|██████████| 141/141 [01:03<00:00,  2.22it/s]\n",
      "100%|██████████| 18/18 [00:03<00:00,  4.74it/s]\n"
     ]
    },
    {
     "name": "stdout",
     "output_type": "stream",
     "text": [
      "Epoch 9: train_acc 83.658970 \t train_loss 0.012549 \t val_acc 87.744227 \t val_loss 0.009772\n",
      "Learning rate: 0.001\n",
      "trigger times: 0\n",
      "Validation loss 0.009772.  Saving model ...\n"
     ]
    },
    {
     "name": "stderr",
     "output_type": "stream",
     "text": [
      "100%|██████████| 141/141 [01:13<00:00,  1.93it/s]\n",
      "100%|██████████| 18/18 [00:03<00:00,  4.63it/s]"
     ]
    },
    {
     "name": "stdout",
     "output_type": "stream",
     "text": [
      "Epoch 10: train_acc 86.767318 \t train_loss 0.010990 \t val_acc 86.678508 \t val_loss 0.010239\n",
      "Learning rate: 0.001\n",
      "trigger times:  1\n"
     ]
    },
    {
     "name": "stderr",
     "output_type": "stream",
     "text": [
      "\n"
     ]
    }
   ],
   "source": [
    "trainer = Trainer(model)\n",
    "trainer.fit(model)"
   ]
  },
  {
   "cell_type": "code",
   "execution_count": 127,
   "metadata": {},
   "outputs": [
    {
     "data": {
      "image/png": "[encoded data removed]",
      "text/plain": [
       "<Figure size 1800x360 with 1 Axes>"
      ]
     },
     "metadata": {
      "needs_background": "light"
     },
     "output_type": "display_data"
    }
   ],
   "source": [
    "trainer.plot_his_acc()"
   ]
  },
  {
   "cell_type": "code",
   "execution_count": 128,
   "metadata": {},
   "outputs": [
    {
     "data": {
      "image/png": "[encoded data removed]",
      "text/plain": [
       "<Figure size 1800x360 with 1 Axes>"
      ]
     },
     "metadata": {
      "needs_background": "light"
     },
     "output_type": "display_data"
    }
   ],
   "source": [
    "trainer.plot_his_loss()"
   ]
  },
  {
   "cell_type": "code",
   "execution_count": 130,
   "metadata": {},
   "outputs": [],
   "source": [
    "def evaluate_model(model, loader):\n",
    "    model.eval()\n",
    "    pred_list = []\n",
    "    label_list = []\n",
    "    with torch.no_grad():\n",
    "        n_correct = 0\n",
    "        n_samples = 0\n",
    "        running_loss=0\n",
    "        for images, labels in loader:\n",
    "            images = images.to(device)\n",
    "            labels = labels.to(device)\n",
    "            outputs = model(images)\n",
    "\n",
    "            _, predictions = torch.max(outputs, 1)\n",
    "            pred_list.extend(predictions.cpu().numpy())\n",
    "            label_list.extend(labels.cpu().numpy())\n",
    "            n_samples += labels.shape[0]\n",
    "            n_correct += (predictions == labels).sum().item()\n",
    "        acc = 100.0 * n_correct / n_samples\n",
    "    return acc, pred_list, label_list"
   ]
  },
  {
   "cell_type": "code",
   "execution_count": 131,
   "metadata": {},
   "outputs": [
    {
     "name": "stdout",
     "output_type": "stream",
     "text": [
      "Accuracy of the network on the test images: 86.70212765957447 %\n"
     ]
    }
   ],
   "source": [
    "acc, pred_list, label_list = evaluate_model(model, test_loader)\n",
    "print(f'Accuracy of the network on the test images: {acc} %')"
   ]
  }
 ],
 "metadata": {
  "interpreter": {
   "hash": "1c652676742539b0910aca53298078d8c88630c998c955875479a7e5fae277ba"
  },
  "kernelspec": {
   "display_name": "Python 3.8.13 ('BAP_Intern_AI')",
   "language": "python",
   "name": "python3"
  },
  "language_info": {
   "codemirror_mode": {
    "name": "ipython",
    "version": 3
   },
   "file_extension": ".py",
   "mimetype": "text/x-python",
   "name": "python",
   "nbconvert_exporter": "python",
   "pygments_lexer": "ipython3",
   "version": "3.8.13"
  },
  "orig_nbformat": 4
 },
 "nbformat": 4,
 "nbformat_minor": 2
}
