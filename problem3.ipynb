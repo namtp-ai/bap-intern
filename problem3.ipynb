{
 "cells": [
  {
   "cell_type": "code",
   "execution_count": 17,
   "metadata": {
    "pycharm": {
     "name": "#%%\n"
    }
   },
   "outputs": [],
   "source": [
    "import torch\n",
    "from PIL import Image\n",
    "from sklearn.model_selection import train_test_split\n",
    "from torch import nn, optim\n",
    "import torch.nn.functional as F\n",
    "from torchvision.ops import focal_loss\n",
    "import torchvision.transforms.functional as transF\n",
    "import numpy as np\n",
    "from torch.utils.data import DataLoader, Dataset\n",
    "from torchvision import datasets, transforms, models\n",
    "from torchvision.datasets import ImageFolder\n",
    "import matplotlib.pyplot as plt\n",
    "import matplotlib.ticker as mticker\n",
    "import os\n",
    "from torch.utils.data import random_split\n",
    "import random\n",
    "from sklearn import preprocessing\n",
    "from tqdm import tqdm\n",
    "import cv2\n",
    "from sklearn.metrics import confusion_matrix"
   ]
  },
  {
   "cell_type": "code",
   "execution_count": 18,
   "metadata": {
    "pycharm": {
     "name": "#%%\n"
    }
   },
   "outputs": [
    {
     "name": "stdout",
     "output_type": "stream",
     "text": [
      "cpu\n"
     ]
    }
   ],
   "source": [
    "device = torch.device('cuda' if torch.cuda.is_available() else 'cpu')\n",
    "print(device)"
   ]
  },
  {
   "cell_type": "code",
   "execution_count": 19,
   "metadata": {
    "pycharm": {
     "name": "#%%\n"
    }
   },
   "outputs": [],
   "source": [
    "class CFG:\n",
    "    '''\n",
    "    CFG\n",
    "    Define hyperparameters used for preprocessing data and training model\n",
    "    ----------\n",
    "    Attributes\n",
    "    ----------\n",
    "        num_epochs: int\n",
    "            Number of epochs need for training.\n",
    "        batch_size: int\n",
    "            Number of samples used for training in 1 iteration.\n",
    "        num_workers: int\n",
    "            Number of processor used in multiprocessing training.\n",
    "        weight_decay: float (0 < weight_decay < 1)\n",
    "            Percentage of neuron dropped out.\n",
    "        mean: ndarray\n",
    "            Mean values of the whole dataset\n",
    "        std: ndarray\n",
    "            Standard deviation values of the whole dataset.\n",
    "        height: int\n",
    "            Height of input image used for the input layer of model.\n",
    "        width: int\n",
    "            Width of input image used for the input layer of model.\n",
    "        learning_rate: float\n",
    "            Step size at each iteration defines how much to change the model.\n",
    "        num_classes: int\n",
    "            Number of output classes.\n",
    "        target_names: list(str)\n",
    "            Names of output classes.\n",
    "    '''\n",
    "    num_epochs = 20\n",
    "    batch_size = 32\n",
    "    num_workers = 2\n",
    "    weight_decay = 1e-5\n",
    "    mean = [0.485, 0.456, 0.406]\n",
    "    std = [0.229, 0.224, 0.225]\n",
    "    height = 224\n",
    "    width = 224\n",
    "    learning_rate = 0.001\n",
    "    num_classes = 4\n",
    "    le = preprocessing.LabelEncoder()\n",
    "    path = './archive/data'\n",
    "    stoi = {'cloudy' : 0, 'desert' : 1, 'green_area' : 2, 'water' : 3}\n",
    "    itos = {0 :'cloudy', 1 : 'desert', 2 : 'green_area', 3 : 'water'}\n",
    "    target_names = ['cloudy', 'desert', 'green_area', 'water']"
   ]
  },
  {
   "cell_type": "code",
   "execution_count": 20,
   "metadata": {
    "pycharm": {
     "name": "#%%\n"
    }
   },
   "outputs": [],
   "source": [
    "class ProcessData:\n",
    "    def __init__(self, path = CFG.path):\n",
    "        self.path = path\n",
    "\n",
    "    def random_split_dataset(self):\n",
    "        '''\n",
    "        random_split_dataset(path = CFG.path)\n",
    "        Split the dataset into 3 subsets included: train, validation and test.\n",
    "        ----------\n",
    "        Parameters\n",
    "        ----------\n",
    "        path : str, default=CFG.path\n",
    "            `path` define the path to dataset\n",
    "        ----------\n",
    "        Returns\n",
    "        ----------\n",
    "        tuple(list(str))\n",
    "            Tuple including 3 lists: train, validation, test. Each list contains paths to samples in dataset.\n",
    "            The default ratio for 3 subset: train=0.6, validation=0.2, test=0.2\n",
    "        '''\n",
    "        random.seed(42)\n",
    "        folders = os.listdir(self.path)\n",
    "        CFG.num_classes = len(folders)\n",
    "        data = []\n",
    "        CFG.le.fit(folders)\n",
    "        CFG.le_name_mapping = dict(zip(CFG.le.classes_, CFG.le.transform(CFG.le.classes_)))\n",
    "        for folder in folders:\n",
    "            for image_filename in os.listdir(os.path.join(self.path, folder)):\n",
    "                data.append((image_filename, folder))\n",
    "        print('num_classes', CFG.num_classes, 'length dataset', len(data))\n",
    "        CFG.train_size = int(0.8*len(data))\n",
    "        CFG.valid_size = int(0.1*len(data))\n",
    "        CFG.test_size = len(data) - CFG.train_size - CFG.valid_size\n",
    "        random.shuffle(data)\n",
    "        return data[ : CFG.train_size], data[CFG.train_size : CFG.train_size + CFG.valid_size], data[CFG.train_size + CFG.valid_size : ]\n",
    "\n",
    "    def get_transforms(self, transforms_type: str):\n",
    "        '''\n",
    "        get_transforms(transforms_type)\n",
    "        ----------\n",
    "        Parameters\n",
    "        ----------\n",
    "        transforms_type: str\n",
    "            Refers to which dataset transformation applied on ('train', 'test', 'train')\n",
    "        ----------\n",
    "        Returns\n",
    "        ----------\n",
    "            If mode is 'train': return a transform.Compose object including steps:\n",
    "                Resize, RandomHorizontalFlip, RandomRotation, ToTensor, Normalize\n",
    "            Else: return a transform.Compose object including steps:\n",
    "                Resize, ToTensor, Normalize\n",
    "        '''\n",
    "        if transforms_type == 'train':\n",
    "            return transforms.Compose([\n",
    "                    transforms.Resize((CFG.width, CFG.height)),\n",
    "                    transforms.RandomHorizontalFlip(),\n",
    "                    transforms.RandomRotation(30),\n",
    "                    transforms.ToTensor(),\n",
    "                    transforms.Normalize(mean=CFG.mean,std=CFG.std)\n",
    "                ])\n",
    "        else:\n",
    "            return transforms.Compose([\n",
    "                transforms.Resize((CFG.width, CFG.height)),\n",
    "                transforms.ToTensor(),\n",
    "                transforms.Normalize(mean=CFG.mean,std=CFG.std)\n",
    "            ])"
   ]
  },
  {
   "cell_type": "code",
   "execution_count": 21,
   "metadata": {
    "pycharm": {
     "name": "#%%\n"
    }
   },
   "outputs": [],
   "source": [
    "class CustomDataset(Dataset):\n",
    "    def __init__(self, data, transforms_type = 'train'):\n",
    "        self.data = data\n",
    "        self.transforms = ProcessData().get_transforms(transforms_type)\n",
    "\n",
    "    def __getitem__(self, idx):\n",
    "        '''\n",
    "        __getitem__(self, idx)\n",
    "        Get item by index\n",
    "        ----------\n",
    "        Parameters\n",
    "        ----------\n",
    "        idx: int\n",
    "            Index of the sample in dataset.\n",
    "        ----------\n",
    "        Returns\n",
    "        ----------\n",
    "        A tuple of (image: tensor, label: numeric)\n",
    "        '''\n",
    "        image_filename, class_name = self.data[idx]\n",
    "        img_path = os.path.join(CFG.path, class_name, image_filename)\n",
    "        img = Image.open(img_path).convert(\"RGB\")\n",
    "        img = self.transforms(img)\n",
    "        return img, torch.tensor(CFG.le_name_mapping[class_name])\n",
    "\n",
    "    def __len__(self):\n",
    "        return len(self.data)"
   ]
  },
  {
   "cell_type": "code",
   "execution_count": 22,
   "metadata": {
    "pycharm": {
     "name": "#%%\n"
    }
   },
   "outputs": [],
   "source": [
    "class DatasetLoader:\n",
    "    def __init__(self):\n",
    "        self.process_data = ProcessData()\n",
    "\n",
    "    def get_loaders(self):\n",
    "        '''\n",
    "        get_loaders:\n",
    "            Split the dataset into 3 set: train, val and test. Each set will be converted into a CustomDataset object and transformed.\n",
    "            Divided each dataset into batches for data loading.\n",
    "        ----------\n",
    "        Returns\n",
    "        ----------\n",
    "        A tuple of (train_loader, val_loader, test_loader)\n",
    "        '''\n",
    "        train_data, val_data, test_data = self.process_data.random_split_dataset()\n",
    "        print(len(train_data), len(val_data), len(test_data))\n",
    "        train_dataset = CustomDataset(train_data, transforms_type = 'train')\n",
    "        val_dataset = CustomDataset(val_data, transforms_type = 'valid')\n",
    "        test_dataset = CustomDataset(test_data, transforms_type = 'test')\n",
    "        train_loader = DataLoader(dataset = train_dataset, batch_size = CFG.batch_size, shuffle = True)\n",
    "        val_loader = DataLoader(dataset = val_dataset, batch_size = CFG.batch_size, shuffle = False)\n",
    "        test_loader = DataLoader(dataset = test_dataset, batch_size = CFG.batch_size, shuffle = False)\n",
    "        return train_loader, val_loader, test_loader"
   ]
  },
  {
   "cell_type": "code",
   "execution_count": 23,
   "metadata": {
    "pycharm": {
     "name": "#%%\n"
    }
   },
   "outputs": [
    {
     "name": "stdout",
     "output_type": "stream",
     "text": [
      "num_classes 4 length dataset 5631\n",
      "4504 563 564\n"
     ]
    }
   ],
   "source": [
    "train_loader, val_loader, test_loader = DatasetLoader().get_loaders()"
   ]
  },
  {
   "cell_type": "code",
   "execution_count": 24,
   "metadata": {
    "pycharm": {
     "name": "#%%\n"
    }
   },
   "outputs": [],
   "source": [
    "class BaseModel(nn.Module):\n",
    "    def __init__(self):\n",
    "        super(BaseModel, self).__init__()\n",
    "        self.pool = nn.MaxPool2d(2, 2)\n",
    "        self.dropout = nn.Dropout(p=0.2)\n",
    "\n",
    "        self.conv1 = nn.Conv2d(3, 6, 4)\n",
    "        self.conv2 = nn.Conv2d(6, 12, 4)\n",
    "        self.conv3 = nn.Conv2d(12, 14, 4)\n",
    "        self.conv4 = nn.Conv2d(14, 16, 4)\n",
    "        self.conv5 = nn.Conv2d(16, 20, 4)\n",
    "\n",
    "        self.fc1 = nn.Linear(20*4*4, 250)\n",
    "        self.fc2 = nn.Linear(250, 200)\n",
    "        self.fc3 = nn.Linear(200, 50)\n",
    "        self.fc4 = nn.Linear(50, 20)\n",
    "        self.fc5 = nn.Linear(20, CFG.num_classes)\n",
    "\n",
    "    def forward(self, x):\n",
    "        x = self.conv1(x)\n",
    "        x = F.relu(x)\n",
    "        x = self.pool(x)\n",
    "\n",
    "        x = self.conv2(x)\n",
    "        x = F.relu(x)\n",
    "        x = self.pool(x)\n",
    "\n",
    "        x = self.conv3(x)\n",
    "        x = F.relu(x)\n",
    "        x = self.pool(x)\n",
    "\n",
    "        x = self.conv4(x)\n",
    "        x = F.relu(x)\n",
    "        x = self.pool(x)\n",
    "\n",
    "        x = self.conv5(x)\n",
    "        x = F.relu(x)\n",
    "        x = self.pool(x)\n",
    "\n",
    "        x = x.reshape(-1, 20*4*4)\n",
    "\n",
    "        x = self.fc1(x)\n",
    "        x = F.relu(x)\n",
    "        x = self.dropout(x)\n",
    "\n",
    "        x = self.fc2(x)\n",
    "        x = F.relu(x)\n",
    "        x = self.dropout(x)\n",
    "\n",
    "        x = self.fc3(x)\n",
    "        x = F.relu(x)\n",
    "        x = self.dropout(x)\n",
    "\n",
    "        x = self.fc4(x)\n",
    "        x = F.relu(x)\n",
    "        x = self.dropout(x)\n",
    "\n",
    "        x = self.fc5(x)\n",
    "\n",
    "        return x"
   ]
  },
  {
   "cell_type": "code",
   "execution_count": 25,
   "metadata": {
    "pycharm": {
     "name": "#%%\n"
    }
   },
   "outputs": [],
   "source": [
    "class Trainer:\n",
    "    def __init__(self, model):\n",
    "        self.model = model\n",
    "        self.criterion = nn.CrossEntropyLoss()\n",
    "        self.optimizer = torch.optim.Adam(self.model.parameters(), lr=CFG.learning_rate, weight_decay=CFG.weight_decay)\n",
    "\n",
    "    def train(self, train_loader):\n",
    "        self.model.train()\n",
    "        train_acc, correct_train, train_loss, target_count = 0, 0, 0, 0\n",
    "\n",
    "        for images, labels in tqdm(train_loader):\n",
    "            images = images.to(device).float()\n",
    "            labels = labels.to(device).long()\n",
    "\n",
    "            # Forward pass\n",
    "            outputs = self.model(images)\n",
    "            loss = self.criterion(outputs, labels)\n",
    "            train_loss += loss.item()\n",
    "\n",
    "            # Backward and optimize\n",
    "            self.optimizer.zero_grad()\n",
    "            loss.backward()\n",
    "            self.optimizer.step()\n",
    "\n",
    "            # accuracy\n",
    "            _, predicted = torch.max(outputs, 1)\n",
    "            target_count += labels.shape[0]\n",
    "            correct_train += (labels == predicted).sum().item()\n",
    "            train_acc = (100 * correct_train) / target_count\n",
    "        return train_acc, train_loss / target_count\n",
    "\n",
    "    def validate(self, val_loader):\n",
    "        self.model.eval()\n",
    "        val_acc, correct_val, val_loss, target_count = 0, 0, 0, 0\n",
    "        for images, labels in tqdm(val_loader):\n",
    "            images = images.to(device).float()\n",
    "            labels = labels.to(device).long()\n",
    "            outputs = self.model(images)\n",
    "            loss = self.criterion(outputs, labels)\n",
    "            val_loss += loss.item()\n",
    "\n",
    "            _, predicted = torch.max(outputs, 1)\n",
    "            target_count += labels.shape[0]\n",
    "            correct_val += (labels == predicted).sum().item()\n",
    "            val_acc = (100 * correct_val) / target_count\n",
    "        return val_acc, val_loss / target_count\n",
    "\n",
    "    def fit(self, model, the_last_loss = 100, patience = 10, trigger_times = 0, isStopped = False):\n",
    "        self.train_acc_history = []\n",
    "        self.train_loss_history = []\n",
    "        self.val_acc_history = []\n",
    "        self.val_loss_history = []\n",
    "\n",
    "        for epoch in range(0, CFG.num_epochs):\n",
    "\n",
    "            train_acc, train_loss = self.train(train_loader)\n",
    "            self.train_acc_history.append(train_acc)\n",
    "            self.train_loss_history.append(train_loss)\n",
    "\n",
    "            val_acc,val_loss = self.validate(val_loader)\n",
    "            self.val_acc_history.append(val_acc)\n",
    "            self.val_loss_history.append(val_loss)\n",
    "\n",
    "            print(\"Epoch {}: train_acc {:.6f} \\t train_loss {:.6f} \\t val_acc {:.6f} \\t val_loss {:.6f}\".format(epoch+1, train_acc, train_loss, val_acc, val_loss))\n",
    "            print(\"Learning rate: {}\".format(self.optimizer.param_groups[0][\"lr\"]))\n",
    "            the_current_loss = val_loss\n",
    "\n",
    "            if the_current_loss > the_last_loss:\n",
    "                trigger_times += 1\n",
    "                print('trigger times: ', trigger_times)\n",
    "                if trigger_times >= patience:\n",
    "                    print('Early stopping! at epoch {0}'.format(epoch+1))\n",
    "                    isStopped = True\n",
    "                    break\n",
    "            else:\n",
    "                print('trigger times: 0')\n",
    "                trigger_times = 0\n",
    "                the_last_loss = the_current_loss\n",
    "                if not isStopped:\n",
    "                    torch.save(self.model.state_dict(), 'model.pth')\n",
    "                    torch_script_model = torch.jit.script(self.model)\n",
    "                    torch_script_model.save('model.pt')\n",
    "                    print('Validation loss {:.6f}.  Saving model ...'.format(the_current_loss))\n",
    "\n",
    "    def plot_his_acc(self):\n",
    "        plt.figure(figsize=(25,5))\n",
    "        plt.plot(self.train_acc_history,'-o')\n",
    "        plt.plot(self.val_acc_history,'-o')\n",
    "        plt.xlabel('epoch')\n",
    "        plt.ylabel('Accuracy')\n",
    "        plt.gca().xaxis.set_major_locator(mticker.MultipleLocator(1))\n",
    "        plt.legend(['Train_Acc','Val_Acc'])\n",
    "        plt.title('Train Acc and Val Acc')\n",
    "        plt.show()\n",
    "\n",
    "    def plot_his_loss(self):\n",
    "        plt.figure(figsize=(25,5))\n",
    "        plt.plot(self.train_loss_history,'-o')\n",
    "        plt.plot(self.val_loss_history,'-o')\n",
    "        plt.xlabel('epoch')\n",
    "        plt.ylabel('losses')\n",
    "        plt.gca().xaxis.set_major_locator(mticker.MultipleLocator(1))\n",
    "        plt.legend(['Train_Loss','Val_Loss'])\n",
    "        plt.title('Train Loss and Val Loss')\n",
    "        plt.show()"
   ]
  },
  {
   "cell_type": "code",
   "execution_count": 26,
   "metadata": {
    "pycharm": {
     "name": "#%%\n"
    }
   },
   "outputs": [],
   "source": [
    "model = BaseModel()\n",
    "model = model.to(device)"
   ]
  },
  {
   "cell_type": "code",
   "execution_count": 27,
   "metadata": {
    "pycharm": {
     "name": "#%%\n"
    }
   },
   "outputs": [
    {
     "name": "stderr",
     "output_type": "stream",
     "text": [
      "100%|██████████| 141/141 [01:08<00:00,  2.07it/s]\n",
      "100%|██████████| 18/18 [00:04<00:00,  3.82it/s]\n"
     ]
    },
    {
     "name": "stdout",
     "output_type": "stream",
     "text": [
      "Epoch 1: train_acc 48.512433 \t train_loss 0.027524 \t val_acc 47.957371 \t val_loss 0.023471\n",
      "Learning rate: 0.001\n",
      "trigger times: 0\n",
      "Validation loss 0.023471.  Saving model ...\n"
     ]
    },
    {
     "name": "stderr",
     "output_type": "stream",
     "text": [
      "100%|██████████| 141/141 [01:06<00:00,  2.12it/s]\n",
      "100%|██████████| 18/18 [00:04<00:00,  3.76it/s]\n"
     ]
    },
    {
     "name": "stdout",
     "output_type": "stream",
     "text": [
      "Epoch 2: train_acc 51.642984 \t train_loss 0.023180 \t val_acc 48.667851 \t val_loss 0.022890\n",
      "Learning rate: 0.001\n",
      "trigger times: 0\n",
      "Validation loss 0.022890.  Saving model ...\n"
     ]
    },
    {
     "name": "stderr",
     "output_type": "stream",
     "text": [
      "100%|██████████| 141/141 [01:06<00:00,  2.11it/s]\n",
      "100%|██████████| 18/18 [00:05<00:00,  3.34it/s]\n"
     ]
    },
    {
     "name": "stdout",
     "output_type": "stream",
     "text": [
      "Epoch 3: train_acc 54.507105 \t train_loss 0.022579 \t val_acc 50.266430 \t val_loss 0.022440\n",
      "Learning rate: 0.001\n",
      "trigger times: 0\n",
      "Validation loss 0.022440.  Saving model ...\n"
     ]
    },
    {
     "name": "stderr",
     "output_type": "stream",
     "text": [
      "100%|██████████| 141/141 [01:00<00:00,  2.33it/s]\n",
      "100%|██████████| 18/18 [00:04<00:00,  4.21it/s]\n"
     ]
    },
    {
     "name": "stdout",
     "output_type": "stream",
     "text": [
      "Epoch 4: train_acc 55.217584 \t train_loss 0.022340 \t val_acc 72.824156 \t val_loss 0.018918\n",
      "Learning rate: 0.001\n",
      "trigger times: 0\n",
      "Validation loss 0.018918.  Saving model ...\n"
     ]
    },
    {
     "name": "stderr",
     "output_type": "stream",
     "text": [
      "100%|██████████| 141/141 [00:54<00:00,  2.58it/s]\n",
      "100%|██████████| 18/18 [00:04<00:00,  4.36it/s]\n"
     ]
    },
    {
     "name": "stdout",
     "output_type": "stream",
     "text": [
      "Epoch 5: train_acc 70.315275 \t train_loss 0.019432 \t val_acc 66.785080 \t val_loss 0.019565\n",
      "Learning rate: 0.001\n",
      "trigger times:  1\n"
     ]
    },
    {
     "name": "stderr",
     "output_type": "stream",
     "text": [
      "100%|██████████| 141/141 [01:01<00:00,  2.28it/s]\n",
      "100%|██████████| 18/18 [00:05<00:00,  3.25it/s]\n"
     ]
    },
    {
     "name": "stdout",
     "output_type": "stream",
     "text": [
      "Epoch 6: train_acc 74.378330 \t train_loss 0.018112 \t val_acc 79.218472 \t val_loss 0.016047\n",
      "Learning rate: 0.001\n",
      "trigger times: 0\n",
      "Validation loss 0.016047.  Saving model ...\n"
     ]
    },
    {
     "name": "stderr",
     "output_type": "stream",
     "text": [
      "100%|██████████| 141/141 [01:07<00:00,  2.08it/s]\n",
      "100%|██████████| 18/18 [00:05<00:00,  3.06it/s]\n"
     ]
    },
    {
     "name": "stdout",
     "output_type": "stream",
     "text": [
      "Epoch 7: train_acc 77.420071 \t train_loss 0.016834 \t val_acc 81.172291 \t val_loss 0.016178\n",
      "Learning rate: 0.001\n",
      "trigger times:  1\n"
     ]
    },
    {
     "name": "stderr",
     "output_type": "stream",
     "text": [
      "100%|██████████| 141/141 [01:03<00:00,  2.22it/s]\n",
      "100%|██████████| 18/18 [00:04<00:00,  3.98it/s]\n"
     ]
    },
    {
     "name": "stdout",
     "output_type": "stream",
     "text": [
      "Epoch 8: train_acc 80.817052 \t train_loss 0.015839 \t val_acc 83.126110 \t val_loss 0.015291\n",
      "Learning rate: 0.001\n",
      "trigger times: 0\n",
      "Validation loss 0.015291.  Saving model ...\n"
     ]
    },
    {
     "name": "stderr",
     "output_type": "stream",
     "text": [
      "100%|██████████| 141/141 [01:04<00:00,  2.17it/s]\n",
      "100%|██████████| 18/18 [00:04<00:00,  3.91it/s]\n"
     ]
    },
    {
     "name": "stdout",
     "output_type": "stream",
     "text": [
      "Epoch 9: train_acc 79.751332 \t train_loss 0.015786 \t val_acc 75.666075 \t val_loss 0.015409\n",
      "Learning rate: 0.001\n",
      "trigger times:  1\n"
     ]
    },
    {
     "name": "stderr",
     "output_type": "stream",
     "text": [
      "100%|██████████| 141/141 [01:12<00:00,  1.95it/s]\n",
      "100%|██████████| 18/18 [00:05<00:00,  3.60it/s]\n"
     ]
    },
    {
     "name": "stdout",
     "output_type": "stream",
     "text": [
      "Epoch 10: train_acc 81.327709 \t train_loss 0.015097 \t val_acc 82.415631 \t val_loss 0.015233\n",
      "Learning rate: 0.001\n",
      "trigger times: 0\n",
      "Validation loss 0.015233.  Saving model ...\n"
     ]
    },
    {
     "name": "stderr",
     "output_type": "stream",
     "text": [
      "100%|██████████| 141/141 [01:06<00:00,  2.11it/s]\n",
      "100%|██████████| 18/18 [00:04<00:00,  3.89it/s]\n"
     ]
    },
    {
     "name": "stdout",
     "output_type": "stream",
     "text": [
      "Epoch 11: train_acc 81.283304 \t train_loss 0.014592 \t val_acc 85.612789 \t val_loss 0.012692\n",
      "Learning rate: 0.001\n",
      "trigger times: 0\n",
      "Validation loss 0.012692.  Saving model ...\n"
     ]
    },
    {
     "name": "stderr",
     "output_type": "stream",
     "text": [
      "100%|██████████| 141/141 [01:09<00:00,  2.03it/s]\n",
      "100%|██████████| 18/18 [00:04<00:00,  3.89it/s]\n"
     ]
    },
    {
     "name": "stdout",
     "output_type": "stream",
     "text": [
      "Epoch 12: train_acc 83.747780 \t train_loss 0.013780 \t val_acc 85.257549 \t val_loss 0.012329\n",
      "Learning rate: 0.001\n",
      "trigger times: 0\n",
      "Validation loss 0.012329.  Saving model ...\n"
     ]
    },
    {
     "name": "stderr",
     "output_type": "stream",
     "text": [
      "100%|██████████| 141/141 [01:08<00:00,  2.06it/s]\n",
      "100%|██████████| 18/18 [00:04<00:00,  3.84it/s]\n"
     ]
    },
    {
     "name": "stdout",
     "output_type": "stream",
     "text": [
      "Epoch 13: train_acc 80.084369 \t train_loss 0.014652 \t val_acc 83.836590 \t val_loss 0.012901\n",
      "Learning rate: 0.001\n",
      "trigger times:  1\n"
     ]
    },
    {
     "name": "stderr",
     "output_type": "stream",
     "text": [
      "100%|██████████| 141/141 [01:00<00:00,  2.33it/s]\n",
      "100%|██████████| 18/18 [00:03<00:00,  4.86it/s]\n"
     ]
    },
    {
     "name": "stdout",
     "output_type": "stream",
     "text": [
      "Epoch 14: train_acc 84.680284 \t train_loss 0.013125 \t val_acc 85.790409 \t val_loss 0.011714\n",
      "Learning rate: 0.001\n",
      "trigger times: 0\n",
      "Validation loss 0.011714.  Saving model ...\n"
     ]
    },
    {
     "name": "stderr",
     "output_type": "stream",
     "text": [
      "100%|██████████| 141/141 [01:03<00:00,  2.23it/s]\n",
      "100%|██████████| 18/18 [00:04<00:00,  3.68it/s]\n"
     ]
    },
    {
     "name": "stdout",
     "output_type": "stream",
     "text": [
      "Epoch 15: train_acc 84.769094 \t train_loss 0.012548 \t val_acc 83.126110 \t val_loss 0.011895\n",
      "Learning rate: 0.001\n",
      "trigger times:  1\n"
     ]
    },
    {
     "name": "stderr",
     "output_type": "stream",
     "text": [
      "100%|██████████| 141/141 [01:05<00:00,  2.14it/s]\n",
      "100%|██████████| 18/18 [00:04<00:00,  4.21it/s]\n"
     ]
    },
    {
     "name": "stdout",
     "output_type": "stream",
     "text": [
      "Epoch 16: train_acc 82.260213 \t train_loss 0.013778 \t val_acc 84.724689 \t val_loss 0.011615\n",
      "Learning rate: 0.001\n",
      "trigger times: 0\n",
      "Validation loss 0.011615.  Saving model ...\n"
     ]
    },
    {
     "name": "stderr",
     "output_type": "stream",
     "text": [
      "100%|██████████| 141/141 [01:02<00:00,  2.26it/s]\n",
      "100%|██████████| 18/18 [00:04<00:00,  4.19it/s]\n"
     ]
    },
    {
     "name": "stdout",
     "output_type": "stream",
     "text": [
      "Epoch 17: train_acc 84.413854 \t train_loss 0.012291 \t val_acc 86.323268 \t val_loss 0.010960\n",
      "Learning rate: 0.001\n",
      "trigger times: 0\n",
      "Validation loss 0.010960.  Saving model ...\n"
     ]
    },
    {
     "name": "stderr",
     "output_type": "stream",
     "text": [
      "100%|██████████| 141/141 [01:02<00:00,  2.27it/s]\n",
      "100%|██████████| 18/18 [00:04<00:00,  4.07it/s]\n"
     ]
    },
    {
     "name": "stdout",
     "output_type": "stream",
     "text": [
      "Epoch 18: train_acc 84.902309 \t train_loss 0.012162 \t val_acc 86.323268 \t val_loss 0.010700\n",
      "Learning rate: 0.001\n",
      "trigger times: 0\n",
      "Validation loss 0.010700.  Saving model ...\n"
     ]
    },
    {
     "name": "stderr",
     "output_type": "stream",
     "text": [
      "100%|██████████| 141/141 [01:02<00:00,  2.25it/s]\n",
      "100%|██████████| 18/18 [00:04<00:00,  4.09it/s]\n"
     ]
    },
    {
     "name": "stdout",
     "output_type": "stream",
     "text": [
      "Epoch 19: train_acc 82.371226 \t train_loss 0.012862 \t val_acc 84.191829 \t val_loss 0.011236\n",
      "Learning rate: 0.001\n",
      "trigger times:  1\n"
     ]
    },
    {
     "name": "stderr",
     "output_type": "stream",
     "text": [
      "100%|██████████| 141/141 [01:06<00:00,  2.11it/s]\n",
      "100%|██████████| 18/18 [00:04<00:00,  3.96it/s]\n"
     ]
    },
    {
     "name": "stdout",
     "output_type": "stream",
     "text": [
      "Epoch 20: train_acc 83.880995 \t train_loss 0.011881 \t val_acc 85.790409 \t val_loss 0.010323\n",
      "Learning rate: 0.001\n",
      "trigger times: 0\n",
      "Validation loss 0.010323.  Saving model ...\n"
     ]
    }
   ],
   "source": [
    "trainer = Trainer(model)\n",
    "trainer.fit(model)"
   ]
  },
  {
   "cell_type": "code",
   "execution_count": 28,
   "metadata": {
    "pycharm": {
     "name": "#%%\n"
    }
   },
   "outputs": [
    {
     "data": {
      "image/png": "[encoded data removed]",
      "text/plain": [
       "<Figure size 1800x360 with 1 Axes>"
      ]
     },
     "metadata": {
      "needs_background": "light"
     },
     "output_type": "display_data"
    }
   ],
   "source": [
    "trainer.plot_his_acc()"
   ]
  },
  {
   "cell_type": "code",
   "execution_count": 29,
   "metadata": {
    "pycharm": {
     "name": "#%%\n"
    }
   },
   "outputs": [
    {
     "data": {
      "image/png": "[encoded data removed]",
      "text/plain": [
       "<Figure size 1800x360 with 1 Axes>"
      ]
     },
     "metadata": {
      "needs_background": "light"
     },
     "output_type": "display_data"
    }
   ],
   "source": [
    "trainer.plot_his_loss()"
   ]
  },
  {
   "cell_type": "code",
   "execution_count": 30,
   "metadata": {
    "pycharm": {
     "name": "#%%\n"
    }
   },
   "outputs": [],
   "source": [
    "def evaluate_model(model, loader):\n",
    "    model.eval()\n",
    "    pred_list = []\n",
    "    label_list = []\n",
    "    with torch.no_grad():\n",
    "        n_correct = 0\n",
    "        n_samples = 0\n",
    "        running_loss=0\n",
    "        for images, labels in loader:\n",
    "            images = images.to(device)\n",
    "            labels = labels.to(device)\n",
    "            outputs = model(images)\n",
    "\n",
    "            _, predictions = torch.max(outputs, 1)\n",
    "            pred_list.extend(predictions.cpu().numpy())\n",
    "            label_list.extend(labels.cpu().numpy())\n",
    "            n_samples += labels.shape[0]\n",
    "            n_correct += (predictions == labels).sum().item()\n",
    "        acc = 100.0 * n_correct / n_samples\n",
    "    return acc, pred_list, label_list"
   ]
  },
  {
   "cell_type": "code",
   "execution_count": 31,
   "metadata": {
    "collapsed": false,
    "pycharm": {
     "name": "#%%\n"
    }
   },
   "outputs": [
    {
     "name": "stdout",
     "output_type": "stream",
     "text": [
      "Accuracy of the network on the test images: 87.23404255319149 %\n"
     ]
    }
   ],
   "source": [
    "acc, pred_list, label_list = evaluate_model(model, test_loader)\n",
    "print(f'Accuracy of the network on the test images: {acc} %')"
   ]
  }
 ],
 "metadata": {
  "interpreter": {
   "hash": "b5bf9e7cab58a3edc6dcc763dceacb9edb40093798ad12c58a3e6024ed7bb290"
  },
  "kernelspec": {
   "display_name": "Python 3.8.13 ('Intern_AI')",
   "language": "python",
   "name": "python3"
  },
  "language_info": {
   "codemirror_mode": {
    "name": "ipython",
    "version": 3
   },
   "file_extension": ".py",
   "mimetype": "text/x-python",
   "name": "python",
   "nbconvert_exporter": "python",
   "pygments_lexer": "ipython3",
   "version": "3.8.13"
  }
 },
 "nbformat": 4,
 "nbformat_minor": 2
}
