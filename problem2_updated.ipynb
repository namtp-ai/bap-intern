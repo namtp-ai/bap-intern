{
  "cells": [
    {
      "cell_type": "code",
      "execution_count": 24,
      "metadata": {
        "id": "5K017tGLneDC",
        "colab": {
          "base_uri": "https://localhost:8080/"
        },
        "outputId": "3e52ee6c-1bb0-4bd9-a0b2-6239bc561c47"
      },
      "outputs": [
        {
          "output_type": "stream",
          "name": "stdout",
          "text": [
            "Drive already mounted at /content/drive; to attempt to forcibly remount, call drive.mount(\"/content/drive\", force_remount=True).\n"
          ]
        }
      ],
      "source": [
        "# Mount to drive.\n",
        "from google.colab import drive\n",
        "drive.mount('/content/drive')"
      ]
    },
    {
      "cell_type": "code",
      "execution_count": 25,
      "metadata": {
        "colab": {
          "base_uri": "https://localhost:8080/"
        },
        "id": "OUd8QzLWn1Qo",
        "outputId": "179d00de-dc3e-4e82-dbaa-d32a43f33cef"
      },
      "outputs": [
        {
          "output_type": "stream",
          "name": "stdout",
          "text": [
            "/content/drive/.shortcut-targets-by-id/1xP_CCNA2iBFpmQU0YLdkhiDjQ9ZvTNtW/hanlhn/Problem\n"
          ]
        }
      ],
      "source": [
        "# Link to the directory of folder.\n",
        "%cd /content/drive/MyDrive/hanlhn/Problem"
      ]
    },
    {
      "cell_type": "code",
      "execution_count": 26,
      "metadata": {
        "id": "zf1Guw2d6GWT"
      },
      "outputs": [],
      "source": [
        "#!unzip 'problem2-data/archive.zip' "
      ]
    },
    {
      "cell_type": "code",
      "execution_count": 27,
      "metadata": {
        "id": "ruU9lt520emD"
      },
      "outputs": [],
      "source": [
        "import os\n",
        "import numpy as np\n",
        "import cv2\n",
        "import torch\n",
        "import random\n",
        "import queue\n",
        "from itertools import cycle\n",
        "import math\n",
        "import matplotlib.pyplot as plt\n",
        "import matplotlib.ticker as mticker\n",
        "from tqdm import tqdm\n",
        "import multiprocessing\n",
        "import torchvision.models as models\n",
        "import torch.nn as nn\n",
        "from PIL import Image\n",
        "from torch.utils.data import Dataset"
      ]
    },
    {
      "cell_type": "code",
      "execution_count": 28,
      "metadata": {
        "colab": {
          "base_uri": "https://localhost:8080/"
        },
        "id": "bzfIApMYIxBs",
        "outputId": "d9484c5e-bd84-402a-adbd-6acf23330d5d"
      },
      "outputs": [
        {
          "output_type": "stream",
          "name": "stdout",
          "text": [
            "cuda\n"
          ]
        }
      ],
      "source": [
        "device = torch.device('cuda' if torch.cuda.is_available() else 'cpu')\n",
        "print(device)"
      ]
    },
    {
      "cell_type": "code",
      "execution_count": 29,
      "metadata": {
        "id": "BBrYX7EZ6CSB"
      },
      "outputs": [],
      "source": [
        "class CFG:\n",
        "    '''\n",
        "    CFG\n",
        "    Define hyperparameters used for preprocessing data and training model\n",
        "    ----------\n",
        "    Attributes\n",
        "    ----------\n",
        "        num_epochs: int \n",
        "            Number of epochs need for training.\n",
        "        batch_size: int\n",
        "            Number of samples used for training in 1 iteration.\n",
        "        mean: ndarray\n",
        "            Mean values of the whole dataset\n",
        "        std: ndarray\n",
        "            Standard deviation values of the whole dataset.\n",
        "        height: int\n",
        "            Height of input image used for the input layer of model.\n",
        "        width: int\n",
        "            Width of input image used for the input layer of model.\n",
        "        learning_rate: float\n",
        "            Step size at each iteration defines how much to change the model.\n",
        "        num_classes: int\n",
        "            Number of output classes.\n",
        "        target_names: list(str) \n",
        "            Names of output classes.\n",
        "    '''\n",
        "    num_epochs = 10\n",
        "    batch_size = 32\n",
        "    num_workers = 2\n",
        "    mean = [0.485, 0.456, 0.406]\n",
        "    std = [0.229, 0.224, 0.225]\n",
        "    height = 224\n",
        "    width = 224\n",
        "    learning_rate = 0.001\n",
        "    num_classes = 4\n",
        "    path = 'data'\n",
        "    stoi = {'cloudy' : 0, 'desert' : 1, 'green_area' : 2, 'water' : 3}\n",
        "    itos = {0 :'cloudy', 1 : 'desert', 2 : 'green_area', 3 : 'water'}\n",
        "    target_names = ['cloudy', 'desert', 'green_area', 'water']"
      ]
    },
    {
      "cell_type": "code",
      "execution_count": 30,
      "metadata": {
        "id": "DFUWcHrY3f1_"
      },
      "outputs": [],
      "source": [
        "def random_split_dataset(path = CFG.path):\n",
        "    '''\n",
        "    random_split_dataset(path = CFG.path)\n",
        "    Split the dataset into 3 subsets included: train, validation and test.\n",
        "    ----------\n",
        "    Parameters\n",
        "    ----------\n",
        "    path : str, default=CFG.path\n",
        "        `path` define the path to dataset\n",
        "    ----------\n",
        "    Returns\n",
        "    ----------\n",
        "    tuple(list(str))\n",
        "        Tuple including 3 lists: train, validation, test. Each list contains paths to samples in dataset.\n",
        "        The default ratio for 3 subset: train=0.6, validation=0.2, test=0.2\n",
        "    '''\n",
        "    data = []\n",
        "    for classname in os.listdir(path):\n",
        "        for filename in os.listdir(os.path.join(path, classname)):\n",
        "            data.append((filename, classname))\n",
        "    print('Length dataset', len(data))\n",
        "    CFG.train_size = int(0.6 * len(data))\n",
        "    CFG.valid_size = int(0.2 * len(data))\n",
        "    CFG.test_size = len(data) - CFG.train_size - CFG.valid_size\n",
        "    random.shuffle(data)\n",
        "    return (data[:CFG.train_size], \n",
        "            data[CFG.train_size : CFG.train_size + CFG.valid_size], \n",
        "            data[CFG.train_size + CFG.valid_size:])"
      ]
    },
    {
      "cell_type": "code",
      "execution_count": 31,
      "metadata": {
        "id": "jqhq-a3BDpZc"
      },
      "outputs": [],
      "source": [
        "class DataProcess(Dataset):\n",
        "    '''\n",
        "    DataProcess\n",
        "        \n",
        "    '''\n",
        "    def __init__(self, data):\n",
        "        self.data = data\n",
        "        \n",
        "    def __getitem__(self, idx: int) -> tuple:\n",
        "        '''\n",
        "        __getitem__(self, idx)\n",
        "        Get item by index\n",
        "        ----------\n",
        "        Parameters\n",
        "        ----------\n",
        "        idx: int\n",
        "            Index of the item you want to get.\n",
        "        ----------\n",
        "        Returns\n",
        "        ----------\n",
        "        A tuple of (image, label: numeric)\n",
        "        '''\n",
        "        filename, classname = self.data[idx]\n",
        "        image_path = os.path.join(CFG.path,classname,filename)\n",
        "        image = np.array(Image.open(image_path).convert(\"RGB\"))\n",
        "        image = cv2.resize(image,(CFG.width, CFG.height))\n",
        "        image = cv2.cvtColor(image,cv2.COLOR_BGR2RGB)\n",
        "        image = np.transpose(image, (2,0,1))/255\n",
        "        for i in range(3):\n",
        "            image[i,:,:]=(image[i,:,:]-CFG.mean[i])/CFG.std[i]\n",
        "        return np.array(image, dtype = np.float32), np.array(CFG.stoi[classname])\n",
        "\n",
        "    def __len__(self):\n",
        "        '''\n",
        "        __len__(self)\n",
        "        Number of samples in the dataset.\n",
        "        '''\n",
        "        return len(self.data)"
      ]
    },
    {
      "cell_type": "code",
      "execution_count": 32,
      "metadata": {
        "id": "-FRgE9N00crz"
      },
      "outputs": [],
      "source": [
        "def default_collate(batch):\n",
        "    '''\n",
        "    default_collate(batch)\n",
        "    Define the methods to concatenate items in the batch.\n",
        "    '''\n",
        "    if isinstance(batch[0], np.ndarray):\n",
        "        return np.stack(batch)\n",
        "    if isinstance(batch[0], (int, float)):\n",
        "        return np.array(batch)\n",
        "    if isinstance(batch[0], (list, tuple)):\n",
        "        return tuple(torch.tensor(default_collate(var)) for var in zip(*batch))"
      ]
    },
    {
      "cell_type": "code",
      "execution_count": 33,
      "metadata": {
        "id": "4XhvYCfeBgSt"
      },
      "outputs": [],
      "source": [
        "class DataLoader:\n",
        "    def __init__(self, dataset, batch_size=64, collate_fn=default_collate):\n",
        "        self.dataset = dataset\n",
        "        self.batch_size = batch_size\n",
        "        self.collate_fn = collate_fn\n",
        "        self.index = 0\n",
        "\n",
        "    def __iter__(self):\n",
        "        self.index = 0\n",
        "        return self\n",
        "\n",
        "    def __next__(self):\n",
        "        if self.index >= len(self.dataset):\n",
        "            # stop iteration once index is out of bounds\n",
        "            raise StopIteration\n",
        "        batch_size = min(len(self.dataset) - self.index, self.batch_size)\n",
        "        return self.collate_fn([self.get() for _ in range(batch_size)])\n",
        "\n",
        "    def get(self):\n",
        "        item = self.dataset[self.index]\n",
        "        self.index += 1\n",
        "        return item"
      ]
    },
    {
      "cell_type": "code",
      "execution_count": 34,
      "metadata": {
        "colab": {
          "base_uri": "https://localhost:8080/"
        },
        "id": "EsWxWGX9Pijg",
        "outputId": "50887950-9fe3-44b7-f1e8-86a4b0665acc"
      },
      "outputs": [
        {
          "output_type": "stream",
          "name": "stdout",
          "text": [
            "Length dataset 5631\n"
          ]
        }
      ],
      "source": [
        "train_data,val_data,test_data = random_split_dataset()\n",
        "train_dataset = DataProcess(train_data)\n",
        "val_dataset = DataProcess(val_data)\n",
        "test_dataset = DataProcess(test_data)"
      ]
    },
    {
      "cell_type": "code",
      "execution_count": 35,
      "metadata": {
        "colab": {
          "base_uri": "https://localhost:8080/"
        },
        "id": "64lN6CSiPl4H",
        "outputId": "bc95b3fb-e849-42ac-dadd-c9e6f79f6c32"
      },
      "outputs": [
        {
          "output_type": "stream",
          "name": "stdout",
          "text": [
            "2\n"
          ]
        }
      ],
      "source": [
        "for i in train_dataset:\n",
        "    print(len(i))\n",
        "    break"
      ]
    },
    {
      "cell_type": "code",
      "execution_count": 36,
      "metadata": {
        "id": "tLawZOrMPsk0"
      },
      "outputs": [],
      "source": [
        "train_loader = DataLoader(dataset = train_dataset, batch_size = CFG.batch_size)\n",
        "val_loader = DataLoader(dataset = val_dataset, batch_size = CFG.batch_size)\n",
        "test_loader = DataLoader(dataset = test_dataset, batch_size = CFG.batch_size)"
      ]
    },
    {
      "cell_type": "code",
      "execution_count": 37,
      "metadata": {
        "colab": {
          "base_uri": "https://localhost:8080/"
        },
        "id": "LI5BJMFaP2AG",
        "outputId": "ba27ca47-2aa2-4d93-e240-8b094d48e737"
      },
      "outputs": [
        {
          "output_type": "stream",
          "name": "stdout",
          "text": [
            "torch.Size([32, 3, 224, 224]) torch.Size([32])\n",
            "<class 'torch.Tensor'> <class 'torch.Tensor'>\n"
          ]
        }
      ],
      "source": [
        "for i,j in train_loader:\n",
        "    print(i.shape,j.shape)\n",
        "    print(type(i),type(j))\n",
        "    break"
      ]
    },
    {
      "cell_type": "code",
      "execution_count": 38,
      "metadata": {
        "id": "UKnS4_Gf4q_I"
      },
      "outputs": [],
      "source": [
        "class BaseModel(nn.Module):\n",
        "    def __init__(self):\n",
        "        super(BaseModel, self).__init__()\n",
        "        device = torch.device('cuda' if torch.cuda.is_available() else 'cpu')\n",
        "        self.model = models.vgg16(pretrained=True)\n",
        "        self.model.classifier[6] = nn.Sequential(\n",
        "                                    nn.Linear(self.model.classifier[6].in_features, 512), \n",
        "                                    nn.Linear(512, CFG.num_classes))\n",
        "\n",
        "        self.model = self.model.to(device, dtype=torch.float)\n",
        "\n",
        "    def forward(self, x):\n",
        "        return self.model(x)"
      ]
    },
    {
      "cell_type": "code",
      "execution_count": 39,
      "metadata": {
        "id": "al8TwRFbV9eb"
      },
      "outputs": [],
      "source": [
        "class Trainer:\n",
        "    def __init__(self, model):\n",
        "        self.model = model\n",
        "        self.criterion = nn.CrossEntropyLoss()\n",
        "        self.optimizer = torch.optim.SGD(self.model.parameters(), lr=CFG.learning_rate, momentum=0.9)\n",
        "\n",
        "    def train(self, train_loader):\n",
        "        self.model.train()\n",
        "        train_acc, correct_train, train_loss, target_count = 0, 0, 0, 0\n",
        "    \n",
        "        for images, labels in tqdm(train_loader):\n",
        "            images = images.to(device)\n",
        "            labels = labels.to(device)\n",
        "\n",
        "            # Forward pass\n",
        "            outputs = self.model(images)\n",
        "            loss = self.criterion(outputs, labels)\n",
        "            train_loss += loss.item()\n",
        "\n",
        "            # Backward and optimize\n",
        "            self.optimizer.zero_grad()\n",
        "            loss.backward()\n",
        "            self.optimizer.step()\n",
        "                \n",
        "            # accuracy\n",
        "            _, predicted = torch.max(outputs, 1)\n",
        "            target_count += labels.shape[0]\n",
        "            correct_train += (labels == predicted).sum().item()\n",
        "            train_acc = (100 * correct_train) / target_count\n",
        "        return train_acc, train_loss / target_count\n",
        "\n",
        "    def validate(self, val_loader):\n",
        "        self.model.eval()\n",
        "        val_acc, correct_val, val_loss, target_count = 0, 0, 0, 0\n",
        "        for images, labels in tqdm(val_loader):\n",
        "            images = images.to(device)\n",
        "            labels = labels.to(device)\n",
        "            outputs = self.model(images)\n",
        "            loss = self.criterion(outputs, labels)\n",
        "            val_loss += loss.item()\n",
        "\n",
        "            _, predicted = torch.max(outputs, 1)\n",
        "            target_count += labels.shape[0]\n",
        "            correct_val += (labels == predicted).sum().item()\n",
        "            val_acc = (100 * correct_val) / target_count\n",
        "        return val_acc, val_loss / target_count \n",
        "    \n",
        "    def fit(self, model, the_last_loss = 100, patience = 10, trigger_times = 0, isStopped = False):\n",
        "        self.train_acc_history = []\n",
        "        self.train_loss_history = []\n",
        "        self.val_acc_history = []\n",
        "        self.val_loss_history = []\n",
        "\n",
        "        for epoch in range(0, CFG.num_epochs):\n",
        "            \n",
        "            train_acc, train_loss = self.train(train_loader)\n",
        "            self.train_acc_history.append(train_acc)\n",
        "            self.train_loss_history.append(train_loss)\n",
        "            \n",
        "            val_acc,val_loss = self.validate(val_loader)\n",
        "            self.val_acc_history.append(val_acc)\n",
        "            self.val_loss_history.append(val_loss)\n",
        "            \n",
        "            print(\"Epoch {}: train_acc {:.6f} \\t train_loss {:.6f} \\t val_acc {:.6f} \\t val_loss {:.6f}\".format(epoch+1, train_acc, train_loss, val_acc, val_loss))\n",
        "            print(\"Learning rate: {}\".format(self.optimizer.param_groups[0][\"lr\"]))\n",
        "            the_current_loss = val_loss\n",
        "            \n",
        "            if the_current_loss > the_last_loss:\n",
        "                trigger_times += 1\n",
        "                print('trigger times: ', trigger_times)\n",
        "                if trigger_times >= patience:\n",
        "                    print('Early stopping! at epoch {0}'.format(epoch+1))\n",
        "                    isStopped = True\n",
        "                    break\n",
        "            else:\n",
        "                print('trigger times: 0')\n",
        "                trigger_times = 0\n",
        "                the_last_loss = the_current_loss\n",
        "                if not isStopped:\n",
        "                    torch.save(self.model.state_dict(), 'model.pt')\n",
        "                    print('Validation loss {:.6f}.  Saving model ...'.format(the_current_loss))\n",
        "\n",
        "    def plot_his_acc(self):\n",
        "        plt.figure(figsize=(25,5))\n",
        "        plt.plot(self.train_acc_history,'-o')\n",
        "        plt.plot(self.val_acc_history,'-o')\n",
        "        plt.xlabel('epoch')\n",
        "        plt.ylabel('Accuracy')\n",
        "        plt.gca().xaxis.set_major_locator(mticker.MultipleLocator(1))\n",
        "        plt.legend(['Train_Acc','Val_Acc'])\n",
        "        plt.title('Train Acc and Val Acc')\n",
        "        plt.show()\n",
        "\n",
        "    def plot_his_loss(self):\n",
        "        plt.figure(figsize=(25,5))\n",
        "        plt.plot(self.train_loss_history,'-o')\n",
        "        plt.plot(self.val_loss_history,'-o')\n",
        "        plt.xlabel('epoch')\n",
        "        plt.ylabel('losses')\n",
        "        plt.gca().xaxis.set_major_locator(mticker.MultipleLocator(1))\n",
        "        plt.legend(['Train_Loss','Val_Loss'])\n",
        "        plt.title('Train Loss and Val Loss')\n",
        "        plt.show()"
      ]
    },
    {
      "cell_type": "code",
      "execution_count": 40,
      "metadata": {
        "id": "kOHUNEmSp61C"
      },
      "outputs": [],
      "source": [
        "model = BaseModel()\n",
        "trainer = Trainer(model)"
      ]
    },
    {
      "cell_type": "code",
      "execution_count": 41,
      "metadata": {
        "colab": {
          "base_uri": "https://localhost:8080/"
        },
        "id": "Ro5eESqTYf8m",
        "outputId": "6aba6d1e-80bc-42a4-f2a5-69aa7226aac9"
      },
      "outputs": [
        {
          "output_type": "stream",
          "name": "stderr",
          "text": [
            "106it [01:47,  1.02s/it]\n",
            "36it [00:12,  2.87it/s]\n"
          ]
        },
        {
          "output_type": "stream",
          "name": "stdout",
          "text": [
            "Epoch 1: train_acc 69.242155 \t train_loss 0.021700 \t val_acc 72.912966 \t val_loss 0.015551\n",
            "Learning rate: 0.001\n",
            "trigger times: 0\n",
            "Validation loss 0.015551.  Saving model ...\n"
          ]
        },
        {
          "output_type": "stream",
          "name": "stderr",
          "text": [
            "106it [01:47,  1.01s/it]\n",
            "36it [00:12,  2.86it/s]\n"
          ]
        },
        {
          "output_type": "stream",
          "name": "stdout",
          "text": [
            "Epoch 2: train_acc 84.162226 \t train_loss 0.011646 \t val_acc 85.612789 \t val_loss 0.009514\n",
            "Learning rate: 0.001\n",
            "trigger times: 0\n",
            "Validation loss 0.009514.  Saving model ...\n"
          ]
        },
        {
          "output_type": "stream",
          "name": "stderr",
          "text": [
            "106it [01:47,  1.01s/it]\n",
            "36it [00:12,  2.86it/s]\n"
          ]
        },
        {
          "output_type": "stream",
          "name": "stdout",
          "text": [
            "Epoch 3: train_acc 98.401421 \t train_loss 0.001621 \t val_acc 99.733570 \t val_loss 0.000340\n",
            "Learning rate: 0.001\n",
            "trigger times: 0\n",
            "Validation loss 0.000340.  Saving model ...\n"
          ]
        },
        {
          "output_type": "stream",
          "name": "stderr",
          "text": [
            "106it [01:47,  1.02s/it]\n",
            "36it [00:12,  2.86it/s]\n"
          ]
        },
        {
          "output_type": "stream",
          "name": "stdout",
          "text": [
            "Epoch 4: train_acc 98.904677 \t train_loss 0.001190 \t val_acc 99.378330 \t val_loss 0.000595\n",
            "Learning rate: 0.001\n",
            "trigger times:  1\n"
          ]
        },
        {
          "output_type": "stream",
          "name": "stderr",
          "text": [
            "106it [01:47,  1.02s/it]\n",
            "36it [00:12,  2.87it/s]\n"
          ]
        },
        {
          "output_type": "stream",
          "name": "stdout",
          "text": [
            "Epoch 5: train_acc 98.608644 \t train_loss 0.001550 \t val_acc 99.733570 \t val_loss 0.000398\n",
            "Learning rate: 0.001\n",
            "trigger times:  2\n"
          ]
        },
        {
          "output_type": "stream",
          "name": "stderr",
          "text": [
            "106it [01:47,  1.02s/it]\n",
            "36it [00:12,  2.86it/s]\n"
          ]
        },
        {
          "output_type": "stream",
          "name": "stdout",
          "text": [
            "Epoch 6: train_acc 99.674364 \t train_loss 0.000361 \t val_acc 99.733570 \t val_loss 0.000339\n",
            "Learning rate: 0.001\n",
            "trigger times: 0\n",
            "Validation loss 0.000339.  Saving model ...\n"
          ]
        },
        {
          "output_type": "stream",
          "name": "stderr",
          "text": [
            "106it [01:47,  1.02s/it]\n",
            "36it [00:12,  2.88it/s]\n"
          ]
        },
        {
          "output_type": "stream",
          "name": "stdout",
          "text": [
            "Epoch 7: train_acc 99.763173 \t train_loss 0.000268 \t val_acc 100.000000 \t val_loss 0.000022\n",
            "Learning rate: 0.001\n",
            "trigger times: 0\n",
            "Validation loss 0.000022.  Saving model ...\n"
          ]
        },
        {
          "output_type": "stream",
          "name": "stderr",
          "text": [
            "106it [01:47,  1.02s/it]\n",
            "36it [00:12,  2.85it/s]\n"
          ]
        },
        {
          "output_type": "stream",
          "name": "stdout",
          "text": [
            "Epoch 8: train_acc 99.437537 \t train_loss 0.000529 \t val_acc 93.783304 \t val_loss 0.008222\n",
            "Learning rate: 0.001\n",
            "trigger times:  1\n"
          ]
        },
        {
          "output_type": "stream",
          "name": "stderr",
          "text": [
            "106it [01:47,  1.02s/it]\n",
            "36it [00:12,  2.87it/s]\n"
          ]
        },
        {
          "output_type": "stream",
          "name": "stdout",
          "text": [
            "Epoch 9: train_acc 99.615157 \t train_loss 0.000332 \t val_acc 99.822380 \t val_loss 0.000082\n",
            "Learning rate: 0.001\n",
            "trigger times:  2\n"
          ]
        },
        {
          "output_type": "stream",
          "name": "stderr",
          "text": [
            "106it [01:47,  1.02s/it]\n",
            "36it [00:12,  2.82it/s]"
          ]
        },
        {
          "output_type": "stream",
          "name": "stdout",
          "text": [
            "Epoch 10: train_acc 99.911190 \t train_loss 0.000086 \t val_acc 99.733570 \t val_loss 0.000229\n",
            "Learning rate: 0.001\n",
            "trigger times:  3\n"
          ]
        },
        {
          "output_type": "stream",
          "name": "stderr",
          "text": [
            "\n"
          ]
        }
      ],
      "source": [
        "trainer.fit(model)"
      ]
    },
    {
      "cell_type": "code",
      "execution_count": 42,
      "metadata": {
        "colab": {
          "base_uri": "https://localhost:8080/"
        },
        "id": "v45sihVBW4Yi",
        "outputId": "0cca7594-ef5d-4d9f-fb2b-581966033153"
      },
      "outputs": [
        {
          "output_type": "execute_result",
          "data": {
            "text/plain": [
              "<All keys matched successfully>"
            ]
          },
          "metadata": {},
          "execution_count": 42
        }
      ],
      "source": [
        "model.load_state_dict(torch.load('./model.pt'))"
      ]
    },
    {
      "cell_type": "code",
      "source": [
        "trainer.plot_his_acc()"
      ],
      "metadata": {
        "colab": {
          "base_uri": "https://localhost:8080/",
          "height": 342
        },
        "id": "kr4HPLi4N3b8",
        "outputId": "b55f53cc-0929-40ba-aaf2-68debc7472ba"
      },
      "execution_count": 43,
      "outputs": [
        {
          "output_type": "display_data",
          "data": {
            "text/plain": [
              "<Figure size 1800x360 with 1 Axes>"
            ],
            "image/png": "[encoded data removed]"
          },
          "metadata": {
            "needs_background": "light"
          }
        }
      ]
    },
    {
      "cell_type": "code",
      "execution_count": 44,
      "metadata": {
        "colab": {
          "base_uri": "https://localhost:8080/",
          "height": 340
        },
        "id": "3p_l17FDo1FE",
        "outputId": "dac9e2b5-972e-41a3-b989-78fdb079b56f"
      },
      "outputs": [
        {
          "output_type": "display_data",
          "data": {
            "text/plain": [
              "<Figure size 1800x360 with 1 Axes>"
            ],
            "image/png": "[encoded data removed]"
          },
          "metadata": {
            "needs_background": "light"
          }
        }
      ],
      "source": [
        "trainer.plot_his_loss()"
      ]
    },
    {
      "cell_type": "code",
      "execution_count": 45,
      "metadata": {
        "id": "RyY8i3JtUhlJ"
      },
      "outputs": [],
      "source": [
        "def evaluate_model(model, loader):\n",
        "    model.eval()\n",
        "    pred_list = []\n",
        "    label_list = []\n",
        "    with torch.no_grad():\n",
        "        n_correct = 0\n",
        "        n_samples = 0\n",
        "        running_loss=0\n",
        "        for images, labels in loader:\n",
        "            images = images.to(device)\n",
        "            labels = labels.to(device)\n",
        "            outputs = model(images)\n",
        "\n",
        "            _, predictions = torch.max(outputs, 1)\n",
        "            pred_list.extend(predictions.cpu().numpy())\n",
        "            label_list.extend(labels.cpu().numpy())\n",
        "            n_samples += labels.shape[0]\n",
        "            n_correct += (predictions == labels).sum().item()\n",
        "        acc = 100.0 * n_correct / n_samples\n",
        "    return acc,pred_list,label_list"
      ]
    },
    {
      "cell_type": "code",
      "execution_count": 46,
      "metadata": {
        "id": "4RYQHd26W3GH",
        "colab": {
          "base_uri": "https://localhost:8080/"
        },
        "outputId": "863db93d-2b2c-458f-94b8-281a1d026844"
      },
      "outputs": [
        {
          "output_type": "stream",
          "name": "stdout",
          "text": [
            "Accuracy of the network on the test images: 99.82253771073647 %\n"
          ]
        }
      ],
      "source": [
        "acc, pred_list,label_list = evaluate_model(model, test_loader)\n",
        "print(f'Accuracy of the network on the test images: {acc} %')"
      ]
    }
  ],
  "metadata": {
    "accelerator": "GPU",
    "colab": {
      "name": "Bản sao của Solution2.ipynb",
      "provenance": []
    },
    "kernelspec": {
      "display_name": "Python 3",
      "name": "python3"
    },
    "language_info": {
      "name": "python"
    }
  },
  "nbformat": 4,
  "nbformat_minor": 0
}