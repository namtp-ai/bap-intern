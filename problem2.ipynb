{
  "nbformat": 4,
  "nbformat_minor": 0,
  "metadata": {
    "colab": {
      "name": "Solution2.ipynb",
      "provenance": []
    },
    "kernelspec": {
      "name": "python3",
      "display_name": "Python 3"
    },
    "language_info": {
      "name": "python"
    },
    "accelerator": "GPU",
    "widgets": {
      "application/vnd.jupyter.widget-state+json": {
        "3910fa3c09f24e75ae69e27d54b5e2e5": {
          "model_module": "@jupyter-widgets/controls",
          "model_name": "HBoxModel",
          "model_module_version": "1.5.0",
          "state": {
            "_dom_classes": [],
            "_model_module": "@jupyter-widgets/controls",
            "_model_module_version": "1.5.0",
            "_model_name": "HBoxModel",
            "_view_count": null,
            "_view_module": "@jupyter-widgets/controls",
            "_view_module_version": "1.5.0",
            "_view_name": "HBoxView",
            "box_style": "",
            "children": [
              "IPY_MODEL_38d4d116ad584b0ea7699826dd914918",
              "IPY_MODEL_9bb93c27af8d4866a5f74175c629a155",
              "IPY_MODEL_0b77e20ead2b4a7393ffc9d767476892"
            ],
            "layout": "IPY_MODEL_efc634c664a1427cb329bdf570915c6e"
          }
        },
        "38d4d116ad584b0ea7699826dd914918": {
          "model_module": "@jupyter-widgets/controls",
          "model_name": "HTMLModel",
          "model_module_version": "1.5.0",
          "state": {
            "_dom_classes": [],
            "_model_module": "@jupyter-widgets/controls",
            "_model_module_version": "1.5.0",
            "_model_name": "HTMLModel",
            "_view_count": null,
            "_view_module": "@jupyter-widgets/controls",
            "_view_module_version": "1.5.0",
            "_view_name": "HTMLView",
            "description": "",
            "description_tooltip": null,
            "layout": "IPY_MODEL_a0dbc7cf02394a5898cb748283db5e41",
            "placeholder": "​",
            "style": "IPY_MODEL_024bf5ce18ca4a449961d54b42258f58",
            "value": "100%"
          }
        },
        "9bb93c27af8d4866a5f74175c629a155": {
          "model_module": "@jupyter-widgets/controls",
          "model_name": "FloatProgressModel",
          "model_module_version": "1.5.0",
          "state": {
            "_dom_classes": [],
            "_model_module": "@jupyter-widgets/controls",
            "_model_module_version": "1.5.0",
            "_model_name": "FloatProgressModel",
            "_view_count": null,
            "_view_module": "@jupyter-widgets/controls",
            "_view_module_version": "1.5.0",
            "_view_name": "ProgressView",
            "bar_style": "success",
            "description": "",
            "description_tooltip": null,
            "layout": "IPY_MODEL_ae3103fd76c74aa5860d7ca50c6d1af3",
            "max": 553433881,
            "min": 0,
            "orientation": "horizontal",
            "style": "IPY_MODEL_b8ef4db050c142c7b80beb542e5a04ed",
            "value": 553433881
          }
        },
        "0b77e20ead2b4a7393ffc9d767476892": {
          "model_module": "@jupyter-widgets/controls",
          "model_name": "HTMLModel",
          "model_module_version": "1.5.0",
          "state": {
            "_dom_classes": [],
            "_model_module": "@jupyter-widgets/controls",
            "_model_module_version": "1.5.0",
            "_model_name": "HTMLModel",
            "_view_count": null,
            "_view_module": "@jupyter-widgets/controls",
            "_view_module_version": "1.5.0",
            "_view_name": "HTMLView",
            "description": "",
            "description_tooltip": null,
            "layout": "IPY_MODEL_5824ebcadd964d809625da139c690516",
            "placeholder": "​",
            "style": "IPY_MODEL_0d00c90920e745baa06d3bc6822c069d",
            "value": " 528M/528M [00:02&lt;00:00, 235MB/s]"
          }
        },
        "efc634c664a1427cb329bdf570915c6e": {
          "model_module": "@jupyter-widgets/base",
          "model_name": "LayoutModel",
          "model_module_version": "1.2.0",
          "state": {
            "_model_module": "@jupyter-widgets/base",
            "_model_module_version": "1.2.0",
            "_model_name": "LayoutModel",
            "_view_count": null,
            "_view_module": "@jupyter-widgets/base",
            "_view_module_version": "1.2.0",
            "_view_name": "LayoutView",
            "align_content": null,
            "align_items": null,
            "align_self": null,
            "border": null,
            "bottom": null,
            "display": null,
            "flex": null,
            "flex_flow": null,
            "grid_area": null,
            "grid_auto_columns": null,
            "grid_auto_flow": null,
            "grid_auto_rows": null,
            "grid_column": null,
            "grid_gap": null,
            "grid_row": null,
            "grid_template_areas": null,
            "grid_template_columns": null,
            "grid_template_rows": null,
            "height": null,
            "justify_content": null,
            "justify_items": null,
            "left": null,
            "margin": null,
            "max_height": null,
            "max_width": null,
            "min_height": null,
            "min_width": null,
            "object_fit": null,
            "object_position": null,
            "order": null,
            "overflow": null,
            "overflow_x": null,
            "overflow_y": null,
            "padding": null,
            "right": null,
            "top": null,
            "visibility": null,
            "width": null
          }
        },
        "a0dbc7cf02394a5898cb748283db5e41": {
          "model_module": "@jupyter-widgets/base",
          "model_name": "LayoutModel",
          "model_module_version": "1.2.0",
          "state": {
            "_model_module": "@jupyter-widgets/base",
            "_model_module_version": "1.2.0",
            "_model_name": "LayoutModel",
            "_view_count": null,
            "_view_module": "@jupyter-widgets/base",
            "_view_module_version": "1.2.0",
            "_view_name": "LayoutView",
            "align_content": null,
            "align_items": null,
            "align_self": null,
            "border": null,
            "bottom": null,
            "display": null,
            "flex": null,
            "flex_flow": null,
            "grid_area": null,
            "grid_auto_columns": null,
            "grid_auto_flow": null,
            "grid_auto_rows": null,
            "grid_column": null,
            "grid_gap": null,
            "grid_row": null,
            "grid_template_areas": null,
            "grid_template_columns": null,
            "grid_template_rows": null,
            "height": null,
            "justify_content": null,
            "justify_items": null,
            "left": null,
            "margin": null,
            "max_height": null,
            "max_width": null,
            "min_height": null,
            "min_width": null,
            "object_fit": null,
            "object_position": null,
            "order": null,
            "overflow": null,
            "overflow_x": null,
            "overflow_y": null,
            "padding": null,
            "right": null,
            "top": null,
            "visibility": null,
            "width": null
          }
        },
        "024bf5ce18ca4a449961d54b42258f58": {
          "model_module": "@jupyter-widgets/controls",
          "model_name": "DescriptionStyleModel",
          "model_module_version": "1.5.0",
          "state": {
            "_model_module": "@jupyter-widgets/controls",
            "_model_module_version": "1.5.0",
            "_model_name": "DescriptionStyleModel",
            "_view_count": null,
            "_view_module": "@jupyter-widgets/base",
            "_view_module_version": "1.2.0",
            "_view_name": "StyleView",
            "description_width": ""
          }
        },
        "ae3103fd76c74aa5860d7ca50c6d1af3": {
          "model_module": "@jupyter-widgets/base",
          "model_name": "LayoutModel",
          "model_module_version": "1.2.0",
          "state": {
            "_model_module": "@jupyter-widgets/base",
            "_model_module_version": "1.2.0",
            "_model_name": "LayoutModel",
            "_view_count": null,
            "_view_module": "@jupyter-widgets/base",
            "_view_module_version": "1.2.0",
            "_view_name": "LayoutView",
            "align_content": null,
            "align_items": null,
            "align_self": null,
            "border": null,
            "bottom": null,
            "display": null,
            "flex": null,
            "flex_flow": null,
            "grid_area": null,
            "grid_auto_columns": null,
            "grid_auto_flow": null,
            "grid_auto_rows": null,
            "grid_column": null,
            "grid_gap": null,
            "grid_row": null,
            "grid_template_areas": null,
            "grid_template_columns": null,
            "grid_template_rows": null,
            "height": null,
            "justify_content": null,
            "justify_items": null,
            "left": null,
            "margin": null,
            "max_height": null,
            "max_width": null,
            "min_height": null,
            "min_width": null,
            "object_fit": null,
            "object_position": null,
            "order": null,
            "overflow": null,
            "overflow_x": null,
            "overflow_y": null,
            "padding": null,
            "right": null,
            "top": null,
            "visibility": null,
            "width": null
          }
        },
        "b8ef4db050c142c7b80beb542e5a04ed": {
          "model_module": "@jupyter-widgets/controls",
          "model_name": "ProgressStyleModel",
          "model_module_version": "1.5.0",
          "state": {
            "_model_module": "@jupyter-widgets/controls",
            "_model_module_version": "1.5.0",
            "_model_name": "ProgressStyleModel",
            "_view_count": null,
            "_view_module": "@jupyter-widgets/base",
            "_view_module_version": "1.2.0",
            "_view_name": "StyleView",
            "bar_color": null,
            "description_width": ""
          }
        },
        "5824ebcadd964d809625da139c690516": {
          "model_module": "@jupyter-widgets/base",
          "model_name": "LayoutModel",
          "model_module_version": "1.2.0",
          "state": {
            "_model_module": "@jupyter-widgets/base",
            "_model_module_version": "1.2.0",
            "_model_name": "LayoutModel",
            "_view_count": null,
            "_view_module": "@jupyter-widgets/base",
            "_view_module_version": "1.2.0",
            "_view_name": "LayoutView",
            "align_content": null,
            "align_items": null,
            "align_self": null,
            "border": null,
            "bottom": null,
            "display": null,
            "flex": null,
            "flex_flow": null,
            "grid_area": null,
            "grid_auto_columns": null,
            "grid_auto_flow": null,
            "grid_auto_rows": null,
            "grid_column": null,
            "grid_gap": null,
            "grid_row": null,
            "grid_template_areas": null,
            "grid_template_columns": null,
            "grid_template_rows": null,
            "height": null,
            "justify_content": null,
            "justify_items": null,
            "left": null,
            "margin": null,
            "max_height": null,
            "max_width": null,
            "min_height": null,
            "min_width": null,
            "object_fit": null,
            "object_position": null,
            "order": null,
            "overflow": null,
            "overflow_x": null,
            "overflow_y": null,
            "padding": null,
            "right": null,
            "top": null,
            "visibility": null,
            "width": null
          }
        },
        "0d00c90920e745baa06d3bc6822c069d": {
          "model_module": "@jupyter-widgets/controls",
          "model_name": "DescriptionStyleModel",
          "model_module_version": "1.5.0",
          "state": {
            "_model_module": "@jupyter-widgets/controls",
            "_model_module_version": "1.5.0",
            "_model_name": "DescriptionStyleModel",
            "_view_count": null,
            "_view_module": "@jupyter-widgets/base",
            "_view_module_version": "1.2.0",
            "_view_name": "StyleView",
            "description_width": ""
          }
        }
      }
    }
  },
  "cells": [
    {
      "cell_type": "code",
      "execution_count": 1,
      "metadata": {
        "colab": {
          "base_uri": "https://localhost:8080/"
        },
        "id": "5K017tGLneDC",
        "outputId": "50fdf9c5-195f-4c85-dd88-e2496a9f08e5"
      },
      "outputs": [
        {
          "output_type": "stream",
          "name": "stdout",
          "text": [
            "Mounted at /content/drive\n"
          ]
        }
      ],
      "source": [
        "# Mount to drive.\n",
        "from google.colab import drive\n",
        "drive.mount('/content/drive')"
      ]
    },
    {
      "cell_type": "code",
      "source": [
        "# Link to the directory of folder.\n",
        "%cd /content/drive/MyDrive/hanlhn/Problem"
      ],
      "metadata": {
        "colab": {
          "base_uri": "https://localhost:8080/"
        },
        "id": "OUd8QzLWn1Qo",
        "outputId": "7601d1e5-573b-4125-cca1-0a3bf8249353"
      },
      "execution_count": 2,
      "outputs": [
        {
          "output_type": "stream",
          "name": "stdout",
          "text": [
            "/content/drive/.shortcut-targets-by-id/1xP_CCNA2iBFpmQU0YLdkhiDjQ9ZvTNtW/hanlhn/Problem\n"
          ]
        }
      ]
    },
    {
      "cell_type": "code",
      "source": [
        "#!unzip 'problem2-data/archive.zip' "
      ],
      "metadata": {
        "id": "zf1Guw2d6GWT"
      },
      "execution_count": 3,
      "outputs": []
    },
    {
      "cell_type": "code",
      "source": [
        "import os\n",
        "import numpy as np\n",
        "import cv2\n",
        "import torch\n",
        "import random\n",
        "import queue\n",
        "from itertools import cycle\n",
        "import math\n",
        "import matplotlib.pyplot as plt\n",
        "import matplotlib.ticker as mticker\n",
        "from tqdm import tqdm\n",
        "import multiprocessing\n",
        "import torchvision.models as models\n",
        "import torch.nn as nn\n",
        "from PIL import Image\n",
        "from torch.utils.data import Dataset"
      ],
      "metadata": {
        "id": "ruU9lt520emD"
      },
      "execution_count": 4,
      "outputs": []
    },
    {
      "cell_type": "code",
      "source": [
        "device = torch.device('cuda' if torch.cuda.is_available() else 'cpu')\n",
        "print(device)"
      ],
      "metadata": {
        "id": "bzfIApMYIxBs",
        "colab": {
          "base_uri": "https://localhost:8080/"
        },
        "outputId": "059fb284-8ed1-45cb-e9b3-f35ce2a620fa"
      },
      "execution_count": 5,
      "outputs": [
        {
          "output_type": "stream",
          "name": "stdout",
          "text": [
            "cuda\n"
          ]
        }
      ]
    },
    {
      "cell_type": "code",
      "source": [
        "class CFG:\n",
        "    '''\n",
        "    CFG\n",
        "    Define hyperparameters used for preprocessing data and training model\n",
        "    ----------\n",
        "    Attributes\n",
        "    ----------\n",
        "        num_epochs: int \n",
        "            Number of epochs need for training.\n",
        "        batch_size: int\n",
        "            Number of samples used for training in 1 iteration.\n",
        "        mean: ndarray\n",
        "            Mean values of the whole dataset\n",
        "        std: ndarray\n",
        "            Standard deviation values of the whole dataset.\n",
        "        height: int\n",
        "            Height of input image used for the input layer of model.\n",
        "        width: int\n",
        "            Width of input image used for the input layer of model.\n",
        "        learning_rate: float\n",
        "            Step size at each iteration defines how much to change the model.\n",
        "        num_classes: int\n",
        "            Number of output classes.\n",
        "        target_names: list(str) \n",
        "            Names of output classes.\n",
        "    '''\n",
        "    num_epochs = 10\n",
        "    batch_size = 32\n",
        "    num_workers = 2\n",
        "    mean = [0.485, 0.456, 0.406]\n",
        "    std = [0.229, 0.224, 0.225]\n",
        "    height = 224\n",
        "    width = 224\n",
        "    learning_rate = 0.001\n",
        "    num_classes = 4\n",
        "    path = 'data'\n",
        "    stoi = {'cloudy' : 0, 'desert' : 1, 'green_area' : 2, 'water' : 3}\n",
        "    itos = {0 :'cloudy', 1 : 'desert', 2 : 'green_area', 3 : 'water'}\n",
        "    target_names = ['cloudy', 'desert', 'green_area', 'water']"
      ],
      "metadata": {
        "id": "BBrYX7EZ6CSB"
      },
      "execution_count": 6,
      "outputs": []
    },
    {
      "cell_type": "code",
      "source": [
        "def random_split_dataset(path = CFG.path):\n",
        "    '''\n",
        "    random_split_dataset(path = CFG.path)\n",
        "    Split the dataset into 3 subsets included: train, validation and test.\n",
        "    ----------\n",
        "    Parameters\n",
        "    ----------\n",
        "    path : str, default=CFG.path\n",
        "        `path` define the path to dataset\n",
        "    ----------\n",
        "    Returns\n",
        "    ----------\n",
        "    tuple(list(str))\n",
        "        Tuple including 3 lists: train, validation, test. Each list contains paths to samples in dataset.\n",
        "        The default ratio for 3 subset: train=0.6, validation=0.2, test=0.2\n",
        "    '''\n",
        "    data = []\n",
        "    for classname in os.listdir(path):\n",
        "        for filename in os.listdir(os.path.join(path, classname)):\n",
        "            data.append((filename, classname))\n",
        "    print('Length dataset', len(data))\n",
        "    CFG.train_size = int(0.6 * len(data))\n",
        "    CFG.valid_size = int(0.2 * len(data))\n",
        "    CFG.test_size = len(data) - CFG.train_size - CFG.valid_size\n",
        "    random.shuffle(data)\n",
        "    return (data[:CFG.train_size], \n",
        "            data[CFG.train_size : CFG.train_size + CFG.valid_size], \n",
        "            data[CFG.train_size + CFG.valid_size:])"
      ],
      "metadata": {
        "id": "DFUWcHrY3f1_"
      },
      "execution_count": 7,
      "outputs": []
    },
    {
      "cell_type": "code",
      "source": [
        "class DataProcess(Dataset):\n",
        "    '''\n",
        "    DataProcess\n",
        "    Processing the dataset using methods from Transformations class.\n",
        "    '''\n",
        "    def __init__(self, data):\n",
        "        self.data = data\n",
        "        \n",
        "    def __getitem__(self, idx: int) -> tuple:\n",
        "        '''\n",
        "        __getitem__(self, idx)\n",
        "        Get item by index\n",
        "        ----------\n",
        "        Parameters\n",
        "        ----------\n",
        "        idx: int\n",
        "            Index of the item you want to get.\n",
        "        ----------\n",
        "        Returns\n",
        "        ----------\n",
        "        A tuple of (image, label: numeric)\n",
        "        '''\n",
        "        filename, classname = self.data[idx]\n",
        "        image_path = os.path.join(CFG.path,classname,filename)\n",
        "        image = np.array(Image.open(image_path).convert(\"RGB\"))\n",
        "        image = cv2.resize(image,(CFG.width, CFG.height))\n",
        "        image = cv2.cvtColor(image,cv2.COLOR_BGR2RGB)\n",
        "        image = np.transpose(image, (2,0,1))/255\n",
        "        for i in range(3):\n",
        "            image[i,:,:]=(image[i,:,:]-CFG.mean[i])/CFG.std[i]\n",
        "        return np.array(image, dtype = np.float32), np.array(CFG.stoi[classname])\n",
        "\n",
        "    def __len__(self):\n",
        "        '''\n",
        "        __len__(self)\n",
        "        Number of samples in the dataset.\n",
        "        '''\n",
        "        return len(self.data)"
      ],
      "metadata": {
        "id": "jqhq-a3BDpZc"
      },
      "execution_count": 8,
      "outputs": []
    },
    {
      "cell_type": "code",
      "source": [
        "def default_collate(batch):\n",
        "    '''\n",
        "    default_collate(batch)\n",
        "    Define the methods to concatenate items in the batch.\n",
        "    ----------\n",
        "    Parameters\n",
        "    ----------\n",
        "    batch: np.ndarray or int or float or list or tuple\n",
        "        Set of data samples.\n",
        "    ----------\n",
        "    Returns\n",
        "    ----------\n",
        "    A set of data samples that are concatenate by proper methods.\n",
        "    '''\n",
        "    if isinstance(batch[0], np.ndarray):\n",
        "        return np.stack(batch)\n",
        "    if isinstance(batch[0], (int, float)):\n",
        "        return np.array(batch)\n",
        "    if isinstance(batch[0], (list, tuple)):\n",
        "        return tuple(torch.tensor(default_collate(var)) for var in zip(*batch))"
      ],
      "metadata": {
        "id": "-FRgE9N00crz"
      },
      "execution_count": 9,
      "outputs": []
    },
    {
      "cell_type": "code",
      "source": [
        "class DataLoader:\n",
        "    def __init__(self, dataset, batch_size=64, collate_fn=default_collate):\n",
        "        self.dataset = dataset\n",
        "        self.batch_size = batch_size\n",
        "        self.collate_fn = collate_fn\n",
        "        self.index = 0\n",
        "\n",
        "    def __iter__(self):\n",
        "        self.index = 0\n",
        "        return self\n",
        "\n",
        "    def __next__(self):\n",
        "        if self.index >= len(self.dataset):\n",
        "            # stop iteration once index is out of bounds\n",
        "            raise StopIteration\n",
        "        batch_size = min(len(self.dataset) - self.index, self.batch_size)\n",
        "        return self.collate_fn([self.get() for _ in range(batch_size)])\n",
        "\n",
        "    def get(self):\n",
        "        item = self.dataset[self.index]\n",
        "        self.index += 1\n",
        "        return item"
      ],
      "metadata": {
        "id": "4XhvYCfeBgSt"
      },
      "execution_count": 10,
      "outputs": []
    },
    {
      "cell_type": "code",
      "source": [
        "train_data,val_data,test_data = random_split_dataset()\n",
        "train_dataset = DataProcess(train_data)\n",
        "val_dataset = DataProcess(val_data)\n",
        "test_dataset = DataProcess(test_data)"
      ],
      "metadata": {
        "colab": {
          "base_uri": "https://localhost:8080/"
        },
        "id": "EsWxWGX9Pijg",
        "outputId": "9b1d4bf9-641b-4e58-d7f7-69d53750dfb7"
      },
      "execution_count": 11,
      "outputs": [
        {
          "output_type": "stream",
          "name": "stdout",
          "text": [
            "Length dataset 5631\n"
          ]
        }
      ]
    },
    {
      "cell_type": "code",
      "source": [
        "for i in train_dataset:\n",
        "    print(len(i))\n",
        "    break"
      ],
      "metadata": {
        "colab": {
          "base_uri": "https://localhost:8080/"
        },
        "id": "64lN6CSiPl4H",
        "outputId": "7f1d0116-a6d2-41da-d4d1-44c22fe55061"
      },
      "execution_count": 12,
      "outputs": [
        {
          "output_type": "stream",
          "name": "stdout",
          "text": [
            "2\n"
          ]
        }
      ]
    },
    {
      "cell_type": "code",
      "source": [
        "train_loader = DataLoader(dataset = train_dataset, batch_size = CFG.batch_size)\n",
        "val_loader = DataLoader(dataset = val_dataset, batch_size = CFG.batch_size)\n",
        "test_loader = DataLoader(dataset = test_dataset, batch_size = CFG.batch_size)"
      ],
      "metadata": {
        "id": "tLawZOrMPsk0"
      },
      "execution_count": 13,
      "outputs": []
    },
    {
      "cell_type": "code",
      "source": [
        "for i,j in train_loader:\n",
        "    print(i.shape,j.shape)\n",
        "    print(type(i),type(j))\n",
        "    break"
      ],
      "metadata": {
        "colab": {
          "base_uri": "https://localhost:8080/"
        },
        "id": "LI5BJMFaP2AG",
        "outputId": "ca2de79c-c39d-419d-d1e3-fc0d3a3c432f"
      },
      "execution_count": 14,
      "outputs": [
        {
          "output_type": "stream",
          "name": "stdout",
          "text": [
            "torch.Size([32, 3, 224, 224]) torch.Size([32])\n",
            "<class 'torch.Tensor'> <class 'torch.Tensor'>\n"
          ]
        }
      ]
    },
    {
      "cell_type": "code",
      "source": [
        "class BaseModel(nn.Module):\n",
        "    def __init__(self):\n",
        "        super(BaseModel, self).__init__()\n",
        "        device = torch.device('cuda' if torch.cuda.is_available() else 'cpu')\n",
        "        self.model = models.vgg16(pretrained=True)\n",
        "        self.model.classifier[6] = nn.Linear(self.model.classifier[6].in_features, CFG.num_classes)\n",
        "        self.model = self.model.to(device, dtype=torch.double)"
      ],
      "metadata": {
        "id": "UKnS4_Gf4q_I"
      },
      "execution_count": 15,
      "outputs": []
    },
    {
      "cell_type": "code",
      "source": [
        "device = torch.device('cuda' if torch.cuda.is_available() else 'cpu')\n",
        "model = models.vgg16(pretrained = True)\n",
        "model.classifier[6] = nn.Linear(model.classifier[6].in_features, 4)\n",
        "model = model.to(device, dtype=torch.float)"
      ],
      "metadata": {
        "id": "SvQc8uFOsr0m",
        "colab": {
          "base_uri": "https://localhost:8080/",
          "height": 66,
          "referenced_widgets": [
            "3910fa3c09f24e75ae69e27d54b5e2e5",
            "38d4d116ad584b0ea7699826dd914918",
            "9bb93c27af8d4866a5f74175c629a155",
            "0b77e20ead2b4a7393ffc9d767476892",
            "efc634c664a1427cb329bdf570915c6e",
            "a0dbc7cf02394a5898cb748283db5e41",
            "024bf5ce18ca4a449961d54b42258f58",
            "ae3103fd76c74aa5860d7ca50c6d1af3",
            "b8ef4db050c142c7b80beb542e5a04ed",
            "5824ebcadd964d809625da139c690516",
            "0d00c90920e745baa06d3bc6822c069d"
          ]
        },
        "outputId": "c9383d1e-16e4-4b86-a4aa-2ff11981f9ed"
      },
      "execution_count": 16,
      "outputs": [
        {
          "output_type": "stream",
          "name": "stderr",
          "text": [
            "Downloading: \"https://download.pytorch.org/models/vgg16-397923af.pth\" to /root/.cache/torch/hub/checkpoints/vgg16-397923af.pth\n"
          ]
        },
        {
          "output_type": "display_data",
          "data": {
            "text/plain": [
              "  0%|          | 0.00/528M [00:00<?, ?B/s]"
            ],
            "application/vnd.jupyter.widget-view+json": {
              "version_major": 2,
              "version_minor": 0,
              "model_id": "3910fa3c09f24e75ae69e27d54b5e2e5"
            }
          },
          "metadata": {}
        }
      ]
    },
    {
      "cell_type": "code",
      "source": [
        "criterion = nn.CrossEntropyLoss()\n",
        "optimizer = torch.optim.Adam(model.parameters(), lr=CFG.learning_rate)\n",
        "\n",
        "def train(model, train_loader):\n",
        "    model.train()\n",
        "    train_acc, correct_train, train_loss, target_count = 0, 0, 0, 0\n",
        "    \n",
        "    for images, labels in tqdm(train_loader):\n",
        "        images = images.to(device)\n",
        "        labels = labels.to(device)\n",
        "\n",
        "        # Forward pass\n",
        "        outputs = model(images)\n",
        "        loss = criterion(outputs, labels)\n",
        "        train_loss += loss.item()\n",
        "\n",
        "        # Backward and optimize\n",
        "        optimizer.zero_grad()\n",
        "        loss.backward()\n",
        "        optimizer.step()\n",
        "            \n",
        "        # accuracy\n",
        "        _, predicted = torch.max(outputs, 1)\n",
        "        target_count += labels.shape[0]\n",
        "        correct_train += (labels == predicted).sum().item()\n",
        "        train_acc = (100 * correct_train) / target_count\n",
        "    return train_acc, train_loss / target_count\n",
        "\n",
        "def validate(model,val_loader):\n",
        "    model.eval()\n",
        "    val_acc, correct_val, val_loss, target_count = 0, 0, 0, 0\n",
        "    for images, labels in tqdm(val_loader):\n",
        "        images = images.to(device)\n",
        "        labels = labels.to(device)\n",
        "        outputs = model(images)\n",
        "        loss = criterion(outputs, labels)\n",
        "        val_loss += loss.item()\n",
        "\n",
        "        _, predicted = torch.max(outputs, 1)\n",
        "        target_count += labels.shape[0]\n",
        "        correct_val += (labels == predicted).sum().item()\n",
        "        val_acc = (100 * correct_val) / target_count\n",
        "    return val_acc, val_loss / target_count "
      ],
      "metadata": {
        "id": "Ap03kBHR4tPE"
      },
      "execution_count": 17,
      "outputs": []
    },
    {
      "cell_type": "code",
      "source": [
        "train_acc_history = []\n",
        "train_loss_history = []\n",
        "val_acc_history = []\n",
        "val_loss_history = []\n",
        "\n",
        "# Early stopping\n",
        "the_last_loss = 100\n",
        "patience = 10\n",
        "trigger_times = 0\n",
        "isStopped = False\n",
        "\n",
        "\n",
        "for epoch in range(0, CFG.num_epochs):\n",
        "    \n",
        "    train_acc, train_loss = train(model, train_loader)\n",
        "    train_acc_history.append(train_acc)\n",
        "    train_loss_history.append(train_loss)\n",
        "    \n",
        "    val_acc,val_loss = validate(model, val_loader)\n",
        "    val_acc_history.append(val_acc)\n",
        "    val_loss_history.append(val_loss)\n",
        "    \n",
        "    print(\"Epoch {}: train_acc {:.6f} \\t train_loss {:.6f} \\t val_acc {:.6f} \\t val_loss {:.6f}\".format(epoch+1, train_acc, train_loss, val_acc, val_loss))\n",
        "    print(\"Learning rate: {}\".format(optimizer.param_groups[0][\"lr\"]))\n",
        "    the_current_loss = val_loss\n",
        "    \n",
        "    if the_current_loss > the_last_loss:\n",
        "        trigger_times += 1\n",
        "        print('trigger times: ', trigger_times)\n",
        "        if trigger_times >= patience:\n",
        "            print('Early stopping! at epoch {0}'.format(epoch+1))\n",
        "            isStopped = True\n",
        "            break\n",
        "    else:\n",
        "        print('trigger times: 0')\n",
        "        trigger_times = 0\n",
        "        the_last_loss = the_current_loss\n",
        "        if not isStopped:\n",
        "            torch.save(model.state_dict(), 'model.pt')\n",
        "            print('Validation loss {:.6f}.  Saving model ...'.format(the_current_loss))"
      ],
      "metadata": {
        "colab": {
          "base_uri": "https://localhost:8080/"
        },
        "id": "HfnmdNW8tncz",
        "outputId": "5a82711c-129d-43b6-853e-678f54787929"
      },
      "execution_count": 18,
      "outputs": [
        {
          "output_type": "stream",
          "name": "stderr",
          "text": [
            "106it [36:06, 20.44s/it]\n",
            "36it [11:23, 19.00s/it]\n"
          ]
        },
        {
          "output_type": "stream",
          "name": "stdout",
          "text": [
            "Epoch 1: train_acc 55.683837 \t train_loss 0.030322 \t val_acc 69.360568 \t val_loss 0.020466\n",
            "Learning rate: 0.001\n",
            "trigger times: 0\n",
            "Validation loss 0.020466.  Saving model ...\n"
          ]
        },
        {
          "output_type": "stream",
          "name": "stderr",
          "text": [
            "106it [01:43,  1.03it/s]\n",
            "36it [00:12,  2.89it/s]\n"
          ]
        },
        {
          "output_type": "stream",
          "name": "stdout",
          "text": [
            "Epoch 2: train_acc 73.949082 \t train_loss 0.019630 \t val_acc 84.635879 \t val_loss 0.010160\n",
            "Learning rate: 0.001\n",
            "trigger times: 0\n",
            "Validation loss 0.010160.  Saving model ...\n"
          ]
        },
        {
          "output_type": "stream",
          "name": "stderr",
          "text": [
            "106it [01:46,  1.00s/it]\n",
            "36it [00:12,  2.86it/s]\n"
          ]
        },
        {
          "output_type": "stream",
          "name": "stdout",
          "text": [
            "Epoch 3: train_acc 90.556542 \t train_loss 0.009145 \t val_acc 93.339254 \t val_loss 0.007487\n",
            "Learning rate: 0.001\n",
            "trigger times: 0\n",
            "Validation loss 0.007487.  Saving model ...\n"
          ]
        },
        {
          "output_type": "stream",
          "name": "stderr",
          "text": [
            "106it [01:46,  1.01s/it]\n",
            "36it [00:12,  2.87it/s]\n"
          ]
        },
        {
          "output_type": "stream",
          "name": "stdout",
          "text": [
            "Epoch 4: train_acc 89.550030 \t train_loss 0.010139 \t val_acc 81.971581 \t val_loss 0.015907\n",
            "Learning rate: 0.001\n",
            "trigger times:  1\n"
          ]
        },
        {
          "output_type": "stream",
          "name": "stderr",
          "text": [
            "106it [01:46,  1.01s/it]\n",
            "36it [00:12,  2.83it/s]\n"
          ]
        },
        {
          "output_type": "stream",
          "name": "stdout",
          "text": [
            "Epoch 5: train_acc 72.380107 \t train_loss 0.019762 \t val_acc 72.646536 \t val_loss 0.017694\n",
            "Learning rate: 0.001\n",
            "trigger times:  2\n"
          ]
        },
        {
          "output_type": "stream",
          "name": "stderr",
          "text": [
            "106it [01:46,  1.01s/it]\n",
            "36it [00:12,  2.85it/s]\n"
          ]
        },
        {
          "output_type": "stream",
          "name": "stdout",
          "text": [
            "Epoch 6: train_acc 86.885731 \t train_loss 0.010144 \t val_acc 76.287744 \t val_loss 0.017097\n",
            "Learning rate: 0.001\n",
            "trigger times:  3\n"
          ]
        },
        {
          "output_type": "stream",
          "name": "stderr",
          "text": [
            "106it [01:47,  1.01s/it]\n",
            "36it [00:12,  2.85it/s]\n"
          ]
        },
        {
          "output_type": "stream",
          "name": "stdout",
          "text": [
            "Epoch 7: train_acc 92.036708 \t train_loss 0.007748 \t val_acc 93.516874 \t val_loss 0.005930\n",
            "Learning rate: 0.001\n",
            "trigger times: 0\n",
            "Validation loss 0.005930.  Saving model ...\n"
          ]
        },
        {
          "output_type": "stream",
          "name": "stderr",
          "text": [
            "106it [01:47,  1.01s/it]\n",
            "36it [00:12,  2.88it/s]\n"
          ]
        },
        {
          "output_type": "stream",
          "name": "stdout",
          "text": [
            "Epoch 8: train_acc 93.576081 \t train_loss 0.006851 \t val_acc 89.964476 \t val_loss 0.008852\n",
            "Learning rate: 0.001\n",
            "trigger times:  1\n"
          ]
        },
        {
          "output_type": "stream",
          "name": "stderr",
          "text": [
            "106it [01:46,  1.01s/it]\n",
            "36it [00:12,  2.85it/s]\n"
          ]
        },
        {
          "output_type": "stream",
          "name": "stdout",
          "text": [
            "Epoch 9: train_acc 94.878626 \t train_loss 0.005195 \t val_acc 93.250444 \t val_loss 0.005825\n",
            "Learning rate: 0.001\n",
            "trigger times: 0\n",
            "Validation loss 0.005825.  Saving model ...\n"
          ]
        },
        {
          "output_type": "stream",
          "name": "stderr",
          "text": [
            "106it [01:46,  1.01s/it]\n",
            "36it [00:12,  2.86it/s]\n"
          ]
        },
        {
          "output_type": "stream",
          "name": "stdout",
          "text": [
            "Epoch 10: train_acc 96.536412 \t train_loss 0.003610 \t val_acc 98.046181 \t val_loss 0.002880\n",
            "Learning rate: 0.001\n",
            "trigger times: 0\n",
            "Validation loss 0.002880.  Saving model ...\n"
          ]
        }
      ]
    },
    {
      "cell_type": "code",
      "source": [
        "model.load_state_dict(torch.load('./model.pt'))"
      ],
      "metadata": {
        "id": "v45sihVBW4Yi",
        "colab": {
          "base_uri": "https://localhost:8080/"
        },
        "outputId": "0f0aa80e-097d-4951-d0c2-186afde5a1da"
      },
      "execution_count": 19,
      "outputs": [
        {
          "output_type": "execute_result",
          "data": {
            "text/plain": [
              "<All keys matched successfully>"
            ]
          },
          "metadata": {},
          "execution_count": 19
        }
      ]
    },
    {
      "cell_type": "code",
      "source": [
        "plt.figure(figsize=(25,5))\n",
        "plt.plot(train_acc_history,'-o')\n",
        "plt.plot(val_acc_history,'-o')\n",
        "plt.xlabel('epoch')\n",
        "plt.ylabel('Accuracy')\n",
        "plt.gca().xaxis.set_major_locator(mticker.MultipleLocator(1))\n",
        "plt.legend(['Train_Acc','Val_Acc'])\n",
        "plt.title('Train Acc and Val Acc')\n",
        "plt.show()"
      ],
      "metadata": {
        "colab": {
          "base_uri": "https://localhost:8080/",
          "height": 342
        },
        "id": "gza3rBdxRiLL",
        "outputId": "07037958-8426-4a3c-b68b-c0b189c8dfd6"
      },
      "execution_count": 20,
      "outputs": [
        {
          "output_type": "display_data",
          "data": {
            "text/plain": [
              "<Figure size 1800x360 with 1 Axes>"
            ],
            "image/png": "[encoded data removed]"
          },
          "metadata": {
            "needs_background": "light"
          }
        }
      ]
    },
    {
      "cell_type": "code",
      "source": [
        "plt.figure(figsize=(25,5))\n",
        "plt.plot(train_loss_history,'-o')\n",
        "plt.plot(val_loss_history,'-o')\n",
        "plt.xlabel('epoch')\n",
        "plt.ylabel('losses')\n",
        "plt.gca().xaxis.set_major_locator(mticker.MultipleLocator(1))\n",
        "plt.legend(['Train_Loss','Val_Loss'])\n",
        "plt.title('Train Loss and Val Loss')\n",
        "plt.show()"
      ],
      "metadata": {
        "colab": {
          "base_uri": "https://localhost:8080/",
          "height": 340
        },
        "id": "Nqq2_Er2RmWC",
        "outputId": "18956d1c-5375-4904-85c8-950f3df5401f"
      },
      "execution_count": 21,
      "outputs": [
        {
          "output_type": "display_data",
          "data": {
            "text/plain": [
              "<Figure size 1800x360 with 1 Axes>"
            ],
            "image/png": "[encoded data removed]"
          },
          "metadata": {
            "needs_background": "light"
          }
        }
      ]
    },
    {
      "cell_type": "code",
      "source": [
        "def evaluate_model(model, loader):\n",
        "    model.eval()\n",
        "    pred_list = []\n",
        "    label_list = []\n",
        "    with torch.no_grad():\n",
        "        n_correct = 0\n",
        "        n_samples = 0\n",
        "        running_loss=0\n",
        "        for images, labels in loader:\n",
        "            images = images.to(device)\n",
        "            labels = labels.to(device)\n",
        "            outputs = model(images)\n",
        "\n",
        "            _, predictions = torch.max(outputs, 1)\n",
        "            pred_list.extend(predictions.cpu().numpy())\n",
        "            label_list.extend(labels.cpu().numpy())\n",
        "            n_samples += labels.shape[0]\n",
        "            n_correct += (predictions == labels).sum().item()\n",
        "        acc = 100.0 * n_correct / n_samples\n",
        "    return acc,pred_list,label_list"
      ],
      "metadata": {
        "id": "RyY8i3JtUhlJ"
      },
      "execution_count": 22,
      "outputs": []
    },
    {
      "cell_type": "code",
      "source": [
        "acc, pred_list,label_list = evaluate_model(model, test_loader)\n",
        "print(f'Accuracy of the network on the test images: {acc} %')"
      ],
      "metadata": {
        "id": "4RYQHd26W3GH",
        "colab": {
          "base_uri": "https://localhost:8080/"
        },
        "outputId": "5917f3b1-9854-4cb6-cf1c-9f489e5ac68b"
      },
      "execution_count": 23,
      "outputs": [
        {
          "output_type": "stream",
          "name": "stdout",
          "text": [
            "Accuracy of the network on the test images: 97.24933451641526 %\n"
          ]
        }
      ]
    }
  ]
}